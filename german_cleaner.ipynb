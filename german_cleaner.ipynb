{
 "cells": [
  {
   "cell_type": "markdown",
   "metadata": {},
   "source": [
    "# USED CARS\n",
    "### we need a better name\n",
    "\n",
    "** This notebook's purpose is only for the german dataset cleaning and manipulation into an actionable dataframe to our purposes"
   ]
  },
  {
   "cell_type": "code",
   "execution_count": 1,
   "metadata": {},
   "outputs": [],
   "source": [
    "##lib importing\n",
    "import pandas as pd"
   ]
  },
  {
   "cell_type": "code",
   "execution_count": 2,
   "metadata": {},
   "outputs": [
    {
     "data": {
      "text/html": [
       "<div>\n",
       "<style scoped>\n",
       "    .dataframe tbody tr th:only-of-type {\n",
       "        vertical-align: middle;\n",
       "    }\n",
       "\n",
       "    .dataframe tbody tr th {\n",
       "        vertical-align: top;\n",
       "    }\n",
       "\n",
       "    .dataframe thead th {\n",
       "        text-align: right;\n",
       "    }\n",
       "</style>\n",
       "<table border=\"1\" class=\"dataframe\">\n",
       "  <thead>\n",
       "    <tr style=\"text-align: right;\">\n",
       "      <th></th>\n",
       "      <th>dateCrawled</th>\n",
       "      <th>name</th>\n",
       "      <th>seller</th>\n",
       "      <th>offerType</th>\n",
       "      <th>price</th>\n",
       "      <th>abtest</th>\n",
       "      <th>vehicleType</th>\n",
       "      <th>yearOfRegistration</th>\n",
       "      <th>gearbox</th>\n",
       "      <th>powerPS</th>\n",
       "      <th>model</th>\n",
       "      <th>kilometer</th>\n",
       "      <th>monthOfRegistration</th>\n",
       "      <th>fuelType</th>\n",
       "      <th>brand</th>\n",
       "      <th>notRepairedDamage</th>\n",
       "      <th>dateCreated</th>\n",
       "      <th>nrOfPictures</th>\n",
       "      <th>postalCode</th>\n",
       "      <th>lastSeen</th>\n",
       "    </tr>\n",
       "  </thead>\n",
       "  <tbody>\n",
       "    <tr>\n",
       "      <th>0</th>\n",
       "      <td>2016-03-24 11:52:17</td>\n",
       "      <td>Golf_3_1.6</td>\n",
       "      <td>privat</td>\n",
       "      <td>Angebot</td>\n",
       "      <td>480</td>\n",
       "      <td>test</td>\n",
       "      <td>NaN</td>\n",
       "      <td>1993</td>\n",
       "      <td>manuell</td>\n",
       "      <td>0</td>\n",
       "      <td>golf</td>\n",
       "      <td>150000</td>\n",
       "      <td>0</td>\n",
       "      <td>benzin</td>\n",
       "      <td>volkswagen</td>\n",
       "      <td>NaN</td>\n",
       "      <td>2016-03-24 00:00:00</td>\n",
       "      <td>0</td>\n",
       "      <td>70435</td>\n",
       "      <td>2016-04-07 03:16:57</td>\n",
       "    </tr>\n",
       "    <tr>\n",
       "      <th>1</th>\n",
       "      <td>2016-03-24 10:58:45</td>\n",
       "      <td>A5_Sportback_2.7_Tdi</td>\n",
       "      <td>privat</td>\n",
       "      <td>Angebot</td>\n",
       "      <td>18300</td>\n",
       "      <td>test</td>\n",
       "      <td>coupe</td>\n",
       "      <td>2011</td>\n",
       "      <td>manuell</td>\n",
       "      <td>190</td>\n",
       "      <td>NaN</td>\n",
       "      <td>125000</td>\n",
       "      <td>5</td>\n",
       "      <td>diesel</td>\n",
       "      <td>audi</td>\n",
       "      <td>ja</td>\n",
       "      <td>2016-03-24 00:00:00</td>\n",
       "      <td>0</td>\n",
       "      <td>66954</td>\n",
       "      <td>2016-04-07 01:46:50</td>\n",
       "    </tr>\n",
       "    <tr>\n",
       "      <th>2</th>\n",
       "      <td>2016-03-14 12:52:21</td>\n",
       "      <td>Jeep_Grand_Cherokee_\"Overland\"</td>\n",
       "      <td>privat</td>\n",
       "      <td>Angebot</td>\n",
       "      <td>9800</td>\n",
       "      <td>test</td>\n",
       "      <td>suv</td>\n",
       "      <td>2004</td>\n",
       "      <td>automatik</td>\n",
       "      <td>163</td>\n",
       "      <td>grand</td>\n",
       "      <td>125000</td>\n",
       "      <td>8</td>\n",
       "      <td>diesel</td>\n",
       "      <td>jeep</td>\n",
       "      <td>NaN</td>\n",
       "      <td>2016-03-14 00:00:00</td>\n",
       "      <td>0</td>\n",
       "      <td>90480</td>\n",
       "      <td>2016-04-05 12:47:46</td>\n",
       "    </tr>\n",
       "    <tr>\n",
       "      <th>3</th>\n",
       "      <td>2016-03-17 16:54:04</td>\n",
       "      <td>GOLF_4_1_4__3TÜRER</td>\n",
       "      <td>privat</td>\n",
       "      <td>Angebot</td>\n",
       "      <td>1500</td>\n",
       "      <td>test</td>\n",
       "      <td>kleinwagen</td>\n",
       "      <td>2001</td>\n",
       "      <td>manuell</td>\n",
       "      <td>75</td>\n",
       "      <td>golf</td>\n",
       "      <td>150000</td>\n",
       "      <td>6</td>\n",
       "      <td>benzin</td>\n",
       "      <td>volkswagen</td>\n",
       "      <td>nein</td>\n",
       "      <td>2016-03-17 00:00:00</td>\n",
       "      <td>0</td>\n",
       "      <td>91074</td>\n",
       "      <td>2016-03-17 17:40:17</td>\n",
       "    </tr>\n",
       "    <tr>\n",
       "      <th>4</th>\n",
       "      <td>2016-03-31 17:25:20</td>\n",
       "      <td>Skoda_Fabia_1.4_TDI_PD_Classic</td>\n",
       "      <td>privat</td>\n",
       "      <td>Angebot</td>\n",
       "      <td>3600</td>\n",
       "      <td>test</td>\n",
       "      <td>kleinwagen</td>\n",
       "      <td>2008</td>\n",
       "      <td>manuell</td>\n",
       "      <td>69</td>\n",
       "      <td>fabia</td>\n",
       "      <td>90000</td>\n",
       "      <td>7</td>\n",
       "      <td>diesel</td>\n",
       "      <td>skoda</td>\n",
       "      <td>nein</td>\n",
       "      <td>2016-03-31 00:00:00</td>\n",
       "      <td>0</td>\n",
       "      <td>60437</td>\n",
       "      <td>2016-04-06 10:17:21</td>\n",
       "    </tr>\n",
       "    <tr>\n",
       "      <th>...</th>\n",
       "      <td>...</td>\n",
       "      <td>...</td>\n",
       "      <td>...</td>\n",
       "      <td>...</td>\n",
       "      <td>...</td>\n",
       "      <td>...</td>\n",
       "      <td>...</td>\n",
       "      <td>...</td>\n",
       "      <td>...</td>\n",
       "      <td>...</td>\n",
       "      <td>...</td>\n",
       "      <td>...</td>\n",
       "      <td>...</td>\n",
       "      <td>...</td>\n",
       "      <td>...</td>\n",
       "      <td>...</td>\n",
       "      <td>...</td>\n",
       "      <td>...</td>\n",
       "      <td>...</td>\n",
       "      <td>...</td>\n",
       "    </tr>\n",
       "    <tr>\n",
       "      <th>371523</th>\n",
       "      <td>2016-03-14 17:48:27</td>\n",
       "      <td>Suche_t4___vito_ab_6_sitze</td>\n",
       "      <td>privat</td>\n",
       "      <td>Angebot</td>\n",
       "      <td>2200</td>\n",
       "      <td>test</td>\n",
       "      <td>NaN</td>\n",
       "      <td>2005</td>\n",
       "      <td>NaN</td>\n",
       "      <td>0</td>\n",
       "      <td>NaN</td>\n",
       "      <td>20000</td>\n",
       "      <td>1</td>\n",
       "      <td>NaN</td>\n",
       "      <td>sonstige_autos</td>\n",
       "      <td>NaN</td>\n",
       "      <td>2016-03-14 00:00:00</td>\n",
       "      <td>0</td>\n",
       "      <td>39576</td>\n",
       "      <td>2016-04-06 00:46:52</td>\n",
       "    </tr>\n",
       "    <tr>\n",
       "      <th>371524</th>\n",
       "      <td>2016-03-05 19:56:21</td>\n",
       "      <td>Smart_smart_leistungssteigerung_100ps</td>\n",
       "      <td>privat</td>\n",
       "      <td>Angebot</td>\n",
       "      <td>1199</td>\n",
       "      <td>test</td>\n",
       "      <td>cabrio</td>\n",
       "      <td>2000</td>\n",
       "      <td>automatik</td>\n",
       "      <td>101</td>\n",
       "      <td>fortwo</td>\n",
       "      <td>125000</td>\n",
       "      <td>3</td>\n",
       "      <td>benzin</td>\n",
       "      <td>smart</td>\n",
       "      <td>nein</td>\n",
       "      <td>2016-03-05 00:00:00</td>\n",
       "      <td>0</td>\n",
       "      <td>26135</td>\n",
       "      <td>2016-03-11 18:17:12</td>\n",
       "    </tr>\n",
       "    <tr>\n",
       "      <th>371525</th>\n",
       "      <td>2016-03-19 18:57:12</td>\n",
       "      <td>Volkswagen_Multivan_T4_TDI_7DC_UY2</td>\n",
       "      <td>privat</td>\n",
       "      <td>Angebot</td>\n",
       "      <td>9200</td>\n",
       "      <td>test</td>\n",
       "      <td>bus</td>\n",
       "      <td>1996</td>\n",
       "      <td>manuell</td>\n",
       "      <td>102</td>\n",
       "      <td>transporter</td>\n",
       "      <td>150000</td>\n",
       "      <td>3</td>\n",
       "      <td>diesel</td>\n",
       "      <td>volkswagen</td>\n",
       "      <td>nein</td>\n",
       "      <td>2016-03-19 00:00:00</td>\n",
       "      <td>0</td>\n",
       "      <td>87439</td>\n",
       "      <td>2016-04-07 07:15:26</td>\n",
       "    </tr>\n",
       "    <tr>\n",
       "      <th>371526</th>\n",
       "      <td>2016-03-20 19:41:08</td>\n",
       "      <td>VW_Golf_Kombi_1_9l_TDI</td>\n",
       "      <td>privat</td>\n",
       "      <td>Angebot</td>\n",
       "      <td>3400</td>\n",
       "      <td>test</td>\n",
       "      <td>kombi</td>\n",
       "      <td>2002</td>\n",
       "      <td>manuell</td>\n",
       "      <td>100</td>\n",
       "      <td>golf</td>\n",
       "      <td>150000</td>\n",
       "      <td>6</td>\n",
       "      <td>diesel</td>\n",
       "      <td>volkswagen</td>\n",
       "      <td>NaN</td>\n",
       "      <td>2016-03-20 00:00:00</td>\n",
       "      <td>0</td>\n",
       "      <td>40764</td>\n",
       "      <td>2016-03-24 12:45:21</td>\n",
       "    </tr>\n",
       "    <tr>\n",
       "      <th>371527</th>\n",
       "      <td>2016-03-07 19:39:19</td>\n",
       "      <td>BMW_M135i_vollausgestattet_NP_52.720____Euro</td>\n",
       "      <td>privat</td>\n",
       "      <td>Angebot</td>\n",
       "      <td>28990</td>\n",
       "      <td>control</td>\n",
       "      <td>limousine</td>\n",
       "      <td>2013</td>\n",
       "      <td>manuell</td>\n",
       "      <td>320</td>\n",
       "      <td>m_reihe</td>\n",
       "      <td>50000</td>\n",
       "      <td>8</td>\n",
       "      <td>benzin</td>\n",
       "      <td>bmw</td>\n",
       "      <td>nein</td>\n",
       "      <td>2016-03-07 00:00:00</td>\n",
       "      <td>0</td>\n",
       "      <td>73326</td>\n",
       "      <td>2016-03-22 03:17:10</td>\n",
       "    </tr>\n",
       "  </tbody>\n",
       "</table>\n",
       "<p>371528 rows × 20 columns</p>\n",
       "</div>"
      ],
      "text/plain": [
       "                dateCrawled                                          name  \\\n",
       "0       2016-03-24 11:52:17                                    Golf_3_1.6   \n",
       "1       2016-03-24 10:58:45                          A5_Sportback_2.7_Tdi   \n",
       "2       2016-03-14 12:52:21                Jeep_Grand_Cherokee_\"Overland\"   \n",
       "3       2016-03-17 16:54:04                            GOLF_4_1_4__3TÜRER   \n",
       "4       2016-03-31 17:25:20                Skoda_Fabia_1.4_TDI_PD_Classic   \n",
       "...                     ...                                           ...   \n",
       "371523  2016-03-14 17:48:27                    Suche_t4___vito_ab_6_sitze   \n",
       "371524  2016-03-05 19:56:21         Smart_smart_leistungssteigerung_100ps   \n",
       "371525  2016-03-19 18:57:12            Volkswagen_Multivan_T4_TDI_7DC_UY2   \n",
       "371526  2016-03-20 19:41:08                        VW_Golf_Kombi_1_9l_TDI   \n",
       "371527  2016-03-07 19:39:19  BMW_M135i_vollausgestattet_NP_52.720____Euro   \n",
       "\n",
       "        seller offerType  price   abtest vehicleType  yearOfRegistration  \\\n",
       "0       privat   Angebot    480     test         NaN                1993   \n",
       "1       privat   Angebot  18300     test       coupe                2011   \n",
       "2       privat   Angebot   9800     test         suv                2004   \n",
       "3       privat   Angebot   1500     test  kleinwagen                2001   \n",
       "4       privat   Angebot   3600     test  kleinwagen                2008   \n",
       "...        ...       ...    ...      ...         ...                 ...   \n",
       "371523  privat   Angebot   2200     test         NaN                2005   \n",
       "371524  privat   Angebot   1199     test      cabrio                2000   \n",
       "371525  privat   Angebot   9200     test         bus                1996   \n",
       "371526  privat   Angebot   3400     test       kombi                2002   \n",
       "371527  privat   Angebot  28990  control   limousine                2013   \n",
       "\n",
       "          gearbox  powerPS        model  kilometer  monthOfRegistration  \\\n",
       "0         manuell        0         golf     150000                    0   \n",
       "1         manuell      190          NaN     125000                    5   \n",
       "2       automatik      163        grand     125000                    8   \n",
       "3         manuell       75         golf     150000                    6   \n",
       "4         manuell       69        fabia      90000                    7   \n",
       "...           ...      ...          ...        ...                  ...   \n",
       "371523        NaN        0          NaN      20000                    1   \n",
       "371524  automatik      101       fortwo     125000                    3   \n",
       "371525    manuell      102  transporter     150000                    3   \n",
       "371526    manuell      100         golf     150000                    6   \n",
       "371527    manuell      320      m_reihe      50000                    8   \n",
       "\n",
       "       fuelType           brand notRepairedDamage          dateCreated  \\\n",
       "0        benzin      volkswagen               NaN  2016-03-24 00:00:00   \n",
       "1        diesel            audi                ja  2016-03-24 00:00:00   \n",
       "2        diesel            jeep               NaN  2016-03-14 00:00:00   \n",
       "3        benzin      volkswagen              nein  2016-03-17 00:00:00   \n",
       "4        diesel           skoda              nein  2016-03-31 00:00:00   \n",
       "...         ...             ...               ...                  ...   \n",
       "371523      NaN  sonstige_autos               NaN  2016-03-14 00:00:00   \n",
       "371524   benzin           smart              nein  2016-03-05 00:00:00   \n",
       "371525   diesel      volkswagen              nein  2016-03-19 00:00:00   \n",
       "371526   diesel      volkswagen               NaN  2016-03-20 00:00:00   \n",
       "371527   benzin             bmw              nein  2016-03-07 00:00:00   \n",
       "\n",
       "        nrOfPictures  postalCode             lastSeen  \n",
       "0                  0       70435  2016-04-07 03:16:57  \n",
       "1                  0       66954  2016-04-07 01:46:50  \n",
       "2                  0       90480  2016-04-05 12:47:46  \n",
       "3                  0       91074  2016-03-17 17:40:17  \n",
       "4                  0       60437  2016-04-06 10:17:21  \n",
       "...              ...         ...                  ...  \n",
       "371523             0       39576  2016-04-06 00:46:52  \n",
       "371524             0       26135  2016-03-11 18:17:12  \n",
       "371525             0       87439  2016-04-07 07:15:26  \n",
       "371526             0       40764  2016-03-24 12:45:21  \n",
       "371527             0       73326  2016-03-22 03:17:10  \n",
       "\n",
       "[371528 rows x 20 columns]"
      ]
     },
     "execution_count": 2,
     "metadata": {},
     "output_type": "execute_result"
    }
   ],
   "source": [
    "##files loading\n",
    "path = \"./datasets/\"\n",
    "filename = \"autos.csv\"\n",
    "german = pd.read_csv(path + filename, encoding='latin1')\n",
    "german"
   ]
  },
  {
   "cell_type": "markdown",
   "metadata": {},
   "source": [
    "### Quick look into the dataset"
   ]
  },
  {
   "cell_type": "code",
   "execution_count": 3,
   "metadata": {},
   "outputs": [
    {
     "data": {
      "text/plain": [
       "(371528, 20)"
      ]
     },
     "execution_count": 3,
     "metadata": {},
     "output_type": "execute_result"
    }
   ],
   "source": [
    "german.shape"
   ]
  },
  {
   "cell_type": "code",
   "execution_count": 4,
   "metadata": {},
   "outputs": [
    {
     "data": {
      "text/plain": [
       "dateCrawled            object\n",
       "name                   object\n",
       "seller                 object\n",
       "offerType              object\n",
       "price                   int64\n",
       "abtest                 object\n",
       "vehicleType            object\n",
       "yearOfRegistration      int64\n",
       "gearbox                object\n",
       "powerPS                 int64\n",
       "model                  object\n",
       "kilometer               int64\n",
       "monthOfRegistration     int64\n",
       "fuelType               object\n",
       "brand                  object\n",
       "notRepairedDamage      object\n",
       "dateCreated            object\n",
       "nrOfPictures            int64\n",
       "postalCode              int64\n",
       "lastSeen               object\n",
       "dtype: object"
      ]
     },
     "execution_count": 4,
     "metadata": {},
     "output_type": "execute_result"
    }
   ],
   "source": [
    "german.dtypes"
   ]
  },
  {
   "cell_type": "code",
   "execution_count": 5,
   "metadata": {},
   "outputs": [
    {
     "data": {
      "text/plain": [
       "Index(['dateCrawled', 'name', 'seller', 'offerType', 'price', 'abtest',\n",
       "       'vehicleType', 'yearOfRegistration', 'gearbox', 'powerPS', 'model',\n",
       "       'kilometer', 'monthOfRegistration', 'fuelType', 'brand',\n",
       "       'notRepairedDamage', 'dateCreated', 'nrOfPictures', 'postalCode',\n",
       "       'lastSeen'],\n",
       "      dtype='object')"
      ]
     },
     "execution_count": 5,
     "metadata": {},
     "output_type": "execute_result"
    }
   ],
   "source": [
    "german.columns"
   ]
  },
  {
   "cell_type": "code",
   "execution_count": 6,
   "metadata": {},
   "outputs": [
    {
     "data": {
      "text/plain": [
       "dateCrawled            object\n",
       "name                   object\n",
       "seller                 object\n",
       "offerType              object\n",
       "price                   int64\n",
       "abtest                 object\n",
       "vehicleType            object\n",
       "yearOfRegistration      int64\n",
       "gearbox                object\n",
       "powerPS                 int64\n",
       "model                  object\n",
       "kilometer               int64\n",
       "monthOfRegistration     int64\n",
       "fuelType               object\n",
       "brand                  object\n",
       "notRepairedDamage      object\n",
       "dateCreated            object\n",
       "nrOfPictures            int64\n",
       "postalCode              int64\n",
       "lastSeen               object\n",
       "dtype: object"
      ]
     },
     "execution_count": 6,
     "metadata": {},
     "output_type": "execute_result"
    }
   ],
   "source": [
    "german.dtypes"
   ]
  },
  {
   "cell_type": "code",
   "execution_count": 7,
   "metadata": {},
   "outputs": [
    {
     "data": {
      "text/plain": [
       "dateCrawled                0\n",
       "name                       0\n",
       "seller                     0\n",
       "offerType                  0\n",
       "price                      0\n",
       "abtest                     0\n",
       "vehicleType            37869\n",
       "yearOfRegistration         0\n",
       "gearbox                20209\n",
       "powerPS                    0\n",
       "model                  20484\n",
       "kilometer                  0\n",
       "monthOfRegistration        0\n",
       "fuelType               33386\n",
       "brand                      0\n",
       "notRepairedDamage      72060\n",
       "dateCreated                0\n",
       "nrOfPictures               0\n",
       "postalCode                 0\n",
       "lastSeen                   0\n",
       "dtype: int64"
      ]
     },
     "execution_count": 7,
     "metadata": {},
     "output_type": "execute_result"
    }
   ],
   "source": [
    "## Null Values\n",
    "german.isna().sum()"
   ]
  },
  {
   "cell_type": "code",
   "execution_count": 8,
   "metadata": {},
   "outputs": [],
   "source": [
    "german['dateCrawled'].min() # '2016-03-05 14:06:22'\n",
    "german['dateCrawled'].max() # '2016-04-07 14:36:58'\n",
    "type(german['dateCrawled'][0]) # str\n",
    "\n",
    "#dates to format datetime and varnames in a standart format\n",
    "german['date_crawled_dt'] = pd.to_datetime(pd.Series(german.dateCrawled))"
   ]
  },
  {
   "cell_type": "code",
   "execution_count": 9,
   "metadata": {},
   "outputs": [
    {
     "data": {
      "text/plain": [
       "180358        CLK_230_Kompressor_Sport__TÜV_07.17__154000km\n",
       "271679    Twingo_1.2_16V_LPG_Servo_Faltdach_TÜV_8/2017_T...\n",
       "3848                                   ford_mondeo_mk3_tdci\n",
       "339945                    Citroën_C5_Kombi_3.0_V6_Exclusive\n",
       "249364                                          Peugeot_206\n",
       "64941     Mercedes_Benz_C_220_T_CDI_Automatik_Classic_DP...\n",
       "118520                               Seat_Ibiza_1.2_Best_of\n",
       "110137    Suche_fahrbereiten_PKW_LKW_Traktor!!!_Barzahlu...\n",
       "203694            BMW_X3_20i_Panoramad._AHK._Tempomat_Leder\n",
       "74926     Mercedes_Benz_Vito_116_CDI_4MATIC_Lang_Aut._Mi...\n",
       "149334                                    VW_Touran_1_9_TDI\n",
       "18105                                        2x_Trabant_601\n",
       "302934                           Mazda_MX_5_1.9i_16V_Impuls\n",
       "276283                                  Volkswagen_Golf_1.6\n",
       "248536                                     Audi_A4_1.8_tfsi\n",
       "321653                                  Golf4_1.9_tdi_110ps\n",
       "54445                             Audi_S6_Avant_5.2_Quattro\n",
       "107256                                        Seat_Leon_1.6\n",
       "369316                               Mein_Liebling_muss_weg\n",
       "301186                        Vito_639_Kompakt__Transporter\n",
       "Name: name, dtype: object"
      ]
     },
     "execution_count": 9,
     "metadata": {},
     "output_type": "execute_result"
    }
   ],
   "source": [
    "german['name'].sample(20)\n",
    "## Name is a hard variable to parse since it seems to resemble some type of description. We'll still need to keep it"
   ]
  },
  {
   "cell_type": "code",
   "execution_count": 10,
   "metadata": {},
   "outputs": [
    {
     "data": {
      "text/plain": [
       "privat        371525\n",
       "gewerblich         3\n",
       "Name: seller, dtype: int64"
      ]
     },
     "execution_count": 10,
     "metadata": {},
     "output_type": "execute_result"
    }
   ],
   "source": [
    "german['seller'].value_counts()\n",
    "## German Sellers are clearly lying here. Only 3 commercial sales, the rest is private. This column is useless\n",
    "## But we can discuss dropping these 3 results since they can be biased towards the rest of the sample"
   ]
  },
  {
   "cell_type": "code",
   "execution_count": 11,
   "metadata": {},
   "outputs": [
    {
     "data": {
      "text/plain": [
       "Angebot    371516\n",
       "Gesuch         12\n",
       "Name: offerType, dtype: int64"
      ]
     },
     "execution_count": 11,
     "metadata": {},
     "output_type": "execute_result"
    }
   ],
   "source": [
    "german['offerType'].value_counts()\n",
    "## 12 adds for demand and the overwhelming majority is offer. We're droping these values\n",
    "\n",
    "#######NEED TO RENAME COLUMN"
   ]
  },
  {
   "cell_type": "code",
   "execution_count": 12,
   "metadata": {},
   "outputs": [
    {
     "data": {
      "text/plain": [
       "count    3.715280e+05\n",
       "mean     1.729514e+04\n",
       "std      3.587954e+06\n",
       "min      0.000000e+00\n",
       "25%      1.150000e+03\n",
       "50%      2.950000e+03\n",
       "75%      7.200000e+03\n",
       "max      2.147484e+09\n",
       "Name: price, dtype: float64"
      ]
     },
     "execution_count": 12,
     "metadata": {},
     "output_type": "execute_result"
    }
   ],
   "source": [
    "german['price'].describe()\n",
    "# german['price'].max()\n",
    "# german['price'].value_counts()\n",
    "# The values = 0 are contaminated data and we're getting rid of it"
   ]
  },
  {
   "cell_type": "code",
   "execution_count": 13,
   "metadata": {},
   "outputs": [
    {
     "data": {
      "text/plain": [
       "849000"
      ]
     },
     "execution_count": 13,
     "metadata": {},
     "output_type": "execute_result"
    }
   ],
   "source": [
    "german['price'].nlargest(n=86, keep='first').min()\n",
    "\n",
    "## I decided to erase the entries for all cars over 911911€. It seems many users inputed the max price value allowed, so it's contaminated data."
   ]
  },
  {
   "cell_type": "code",
   "execution_count": null,
   "metadata": {},
   "outputs": [],
   "source": []
  },
  {
   "cell_type": "code",
   "execution_count": null,
   "metadata": {},
   "outputs": [],
   "source": []
  },
  {
   "cell_type": "code",
   "execution_count": 14,
   "metadata": {},
   "outputs": [
    {
     "data": {
      "text/plain": [
       "911911"
      ]
     },
     "execution_count": 14,
     "metadata": {},
     "output_type": "execute_result"
    }
   ],
   "source": [
    "german['price'].nlargest(n=85, keep='first').min()\n",
    "\n",
    "## I decided to erase the entries for all cars over 911911€. It seems many users inputed the max price value allowed, so it's contaminated data."
   ]
  },
  {
   "cell_type": "code",
   "execution_count": 15,
   "metadata": {},
   "outputs": [
    {
     "data": {
      "text/plain": [
       "test       192585\n",
       "control    178943\n",
       "Name: abtest, dtype: int64"
      ]
     },
     "execution_count": 15,
     "metadata": {},
     "output_type": "execute_result"
    }
   ],
   "source": [
    "german['abtest'].value_counts()\n",
    "## I have no idea what this column means."
   ]
  },
  {
   "cell_type": "code",
   "execution_count": 16,
   "metadata": {},
   "outputs": [
    {
     "data": {
      "text/plain": [
       "limousine     95894\n",
       "kleinwagen    80023\n",
       "kombi         67564\n",
       "bus           30201\n",
       "cabrio        22898\n",
       "coupe         19015\n",
       "suv           14707\n",
       "andere         3357\n",
       "Name: vehicleType, dtype: int64"
      ]
     },
     "execution_count": 16,
     "metadata": {},
     "output_type": "execute_result"
    }
   ],
   "source": [
    "german['vehicleType']\n",
    "## Need to make a dictionary to convert this to english\n",
    "\n",
    "## Think we need to drop \"andere\" or \"other\"\n",
    "##\n",
    "german['vehicleType'].value_counts()\n",
    "\n",
    "## The matching of this variable will be a problem"
   ]
  },
  {
   "cell_type": "code",
   "execution_count": 38,
   "metadata": {},
   "outputs": [
    {
     "data": {
      "text/plain": [
       "15115"
      ]
     },
     "execution_count": 38,
     "metadata": {},
     "output_type": "execute_result"
    }
   ],
   "source": [
    "german['yearOfRegistration'].value_counts()\n",
    "\n",
    "german['yearOfRegistration'].nsmallest(n=50000, keep='first').max()\n",
    "\n",
    "german.groupby(\"fuelType\")[\"vehicleType\"].value_counts()\n",
    "## I'd exclude the 50.000 oldest entries. We'll still analyze the last 20 years of vehicles but won't contaminate our data with classic vehicles who are not the bulk of the automobiles in circulation and are treated more as classics. Either that or we cut it 25 years prior to the year of analysis, in accordance with the definition of classic "
   ]
  },
  {
   "cell_type": "code",
   "execution_count": 18,
   "metadata": {},
   "outputs": [
    {
     "data": {
      "text/plain": [
       "manuell      274214\n",
       "automatik     77105\n",
       "Name: gearbox, dtype: int64"
      ]
     },
     "execution_count": 18,
     "metadata": {},
     "output_type": "execute_result"
    }
   ],
   "source": [
    "german['gearbox'].value_counts()\n",
    "\n",
    "\n",
    "## worthwile analysis"
   ]
  },
  {
   "cell_type": "code",
   "execution_count": 19,
   "metadata": {},
   "outputs": [
    {
     "data": {
      "text/plain": [
       "987.972"
      ]
     },
     "execution_count": 19,
     "metadata": {},
     "output_type": "execute_result"
    }
   ],
   "source": [
    "german['powerPS'].describe()\n",
    "\n",
    "## convert it to horsepower\n",
    "\n",
    "german['horsepower'] = german['powerPS']*0.986 \n",
    "german['horsepower'].describe()\n",
    "\n",
    "german['horsepower'].nlargest(n=300, keep='first').min()\n",
    "\n",
    "## I think that a car with more than 1000HP should be considered a rocket instead so I'll drop these ~300 entries\n",
    "\n"
   ]
  },
  {
   "cell_type": "code",
   "execution_count": 20,
   "metadata": {},
   "outputs": [
    {
     "name": "stdout",
     "output_type": "stream",
     "text": [
      "40\n"
     ]
    },
    {
     "data": {
      "text/plain": [
       "array(['a_klasse', 'andere', 'e_klasse', 'b_klasse', 'c_klasse', 'vito',\n",
       "       'sprinter', 'slk', 'glk', 'm_klasse', 'viano', 's_klasse', 'sl',\n",
       "       'clk', nan, 'v_klasse', 'cl', 'g_klasse', 'gl'], dtype=object)"
      ]
     },
     "execution_count": 20,
     "metadata": {},
     "output_type": "execute_result"
    }
   ],
   "source": [
    "#german['model'].value_counts()\n",
    "\n",
    "## 26k model = other - assortment of weird stuff - don't want this variable\n",
    "\n",
    "#german[german['model']=='andere']\n",
    "\n",
    "print(len(german['brand'].unique()))\n",
    "\n",
    "(german[german['brand']=='mercedes_benz'] ['model']).unique()\n",
    "\n",
    "#german['brand'].unique()\n",
    "#set(german['model'])"
   ]
  },
  {
   "cell_type": "code",
   "execution_count": 21,
   "metadata": {},
   "outputs": [
    {
     "data": {
      "text/plain": [
       "150000    7422\n",
       "125000     740\n",
       "5000       597\n",
       "100000     283\n",
       "90000      196\n",
       "80000      147\n",
       "70000      108\n",
       "60000       92\n",
       "20000       76\n",
       "30000       57\n",
       "50000       56\n",
       "40000       55\n",
       "10000       30\n",
       "Name: kilometer, dtype: int64"
      ]
     },
     "execution_count": 21,
     "metadata": {},
     "output_type": "execute_result"
    }
   ],
   "source": [
    "german['kilometer'].value_counts()\n",
    "\n",
    "#ys = [y for y in german['yearOfRegistration'].unique()]\n",
    "#ys = sorted(ys)\n",
    "\n",
    "g2 = german[german['yearOfRegistration'] == 2016]\n",
    "g2['kilometer'].value_counts() \n",
    "#g2['kilometer'].value_counts().sum() \n",
    "###This var is a problem and it's being discussed in slack"
   ]
  },
  {
   "cell_type": "code",
   "execution_count": 22,
   "metadata": {},
   "outputs": [],
   "source": [
    "# german['month_of_registration_dt'] = pd.to_datetime(pd.Series(german.monthOfRegistration), unit = \"m\")\n",
    "# german['month_of_registration_dt']\n",
    "\n",
    "# I dont know how to pass this into datetime. will check later"
   ]
  },
  {
   "cell_type": "code",
   "execution_count": 23,
   "metadata": {},
   "outputs": [
    {
     "data": {
      "text/plain": [
       "benzin     223857\n",
       "diesel     107746\n",
       "lpg          5378\n",
       "cng           571\n",
       "hybrid        278\n",
       "andere        208\n",
       "elektro       104\n",
       "Name: fuelType, dtype: int64"
      ]
     },
     "execution_count": 23,
     "metadata": {},
     "output_type": "execute_result"
    }
   ],
   "source": [
    "german['fuelType'].value_counts()\n",
    "\n",
    "## Make translation dict"
   ]
  },
  {
   "cell_type": "code",
   "execution_count": 24,
   "metadata": {},
   "outputs": [
    {
     "name": "stdout",
     "output_type": "stream",
     "text": [
      "0\n"
     ]
    },
    {
     "data": {
      "text/plain": [
       "volkswagen        79640\n",
       "bmw               40274\n",
       "opel              40136\n",
       "mercedes_benz     35309\n",
       "audi              32873\n",
       "ford              25573\n",
       "renault           17969\n",
       "peugeot           11027\n",
       "fiat               9676\n",
       "seat               7022\n",
       "mazda              5695\n",
       "skoda              5641\n",
       "smart              5249\n",
       "citroen            5182\n",
       "nissan             5037\n",
       "toyota             4694\n",
       "sonstige_autos     3982\n",
       "hyundai            3646\n",
       "mini               3394\n",
       "volvo              3327\n",
       "mitsubishi         3061\n",
       "honda              2836\n",
       "kia                2555\n",
       "alfa_romeo         2345\n",
       "suzuki             2328\n",
       "porsche            2215\n",
       "chevrolet          1845\n",
       "chrysler           1452\n",
       "dacia               900\n",
       "jeep                807\n",
       "daihatsu            806\n",
       "subaru              779\n",
       "land_rover          770\n",
       "jaguar              621\n",
       "trabant             591\n",
       "daewoo              542\n",
       "saab                530\n",
       "rover               490\n",
       "lancia              484\n",
       "lada                225\n",
       "Name: brand, dtype: int64"
      ]
     },
     "execution_count": 24,
     "metadata": {},
     "output_type": "execute_result"
    }
   ],
   "source": [
    "print(german['brand'].isna().sum())\n",
    "\n",
    "german['brand'].value_counts()"
   ]
  },
  {
   "cell_type": "code",
   "execution_count": 25,
   "metadata": {},
   "outputs": [
    {
     "name": "stdout",
     "output_type": "stream",
     "text": [
      "72060\n"
     ]
    },
    {
     "data": {
      "text/plain": [
       "nein    263182\n",
       "ja       36286\n",
       "Name: notRepairedDamage, dtype: int64"
      ]
     },
     "execution_count": 25,
     "metadata": {},
     "output_type": "execute_result"
    }
   ],
   "source": [
    "print(german['notRepairedDamage'].isna().sum())\n",
    "## 72k null values - drop?\n",
    "german['notRepairedDamage'].value_counts()"
   ]
  },
  {
   "cell_type": "code",
   "execution_count": 42,
   "metadata": {},
   "outputs": [
    {
     "data": {
      "text/plain": [
       "0"
      ]
     },
     "execution_count": 42,
     "metadata": {},
     "output_type": "execute_result"
    }
   ],
   "source": [
    "(german['dateCreated'] == german['dateCrawled']).sum() ##samevar"
   ]
  },
  {
   "cell_type": "code",
   "execution_count": 27,
   "metadata": {},
   "outputs": [
    {
     "data": {
      "text/plain": [
       "0    371528\n",
       "Name: nrOfPictures, dtype: int64"
      ]
     },
     "execution_count": 27,
     "metadata": {},
     "output_type": "execute_result"
    }
   ],
   "source": [
    "german['nrOfPictures'].value_counts() ## all 0's... Why is this shit here?"
   ]
  },
  {
   "cell_type": "code",
   "execution_count": 28,
   "metadata": {},
   "outputs": [],
   "source": [
    "# german['postalCode']\n",
    "# I don't care. treat germany as a whole and drop"
   ]
  },
  {
   "cell_type": "code",
   "execution_count": 29,
   "metadata": {},
   "outputs": [
    {
     "data": {
      "text/plain": [
       "'2016-04-07 14:58:51'"
      ]
     },
     "execution_count": 29,
     "metadata": {},
     "output_type": "execute_result"
    }
   ],
   "source": [
    "german['lastSeen'].max()\n",
    "\n",
    "## it seems this var is tracking the last time the car was seen on the site. useless"
   ]
  },
  {
   "cell_type": "code",
   "execution_count": 30,
   "metadata": {},
   "outputs": [],
   "source": [
    "columns_to_keep = ['name', 'price', 'vehicleType', 'yearOfRegistration', 'gearbox', 'horsepower', 'model', 'kilometer', 'fuelType', 'brand', 'notRepairedDamage']"
   ]
  },
  {
   "cell_type": "code",
   "execution_count": 31,
   "metadata": {},
   "outputs": [
    {
     "name": "stdout",
     "output_type": "stream",
     "text": [
      "184008\n",
      "We dropped  110572  entries due to having NaN in a variable of interest\n"
     ]
    }
   ],
   "source": [
    "## drop entries\n",
    "print(german.isna().sum().sum())\n",
    "\n",
    "## we want to drop every row with na actually\n",
    "init_entries = german.shape[0]\n",
    "##\n",
    "german = german.dropna()\n",
    "##\n",
    "current_entries = german.shape[0]\n",
    "print('We dropped ',  init_entries - current_entries, ' entries due to having NaN in a variable of interest')\n",
    "\n",
    "#we can eyeball there's some heavy correlation on NaN entries across diff variables.\n",
    "# we're not populating the dataset since this is not machine learning"
   ]
  },
  {
   "cell_type": "code",
   "execution_count": 32,
   "metadata": {},
   "outputs": [
    {
     "name": "stdout",
     "output_type": "stream",
     "text": [
      "We dropped  4  entries due to being the incorrect type of ad\n"
     ]
    }
   ],
   "source": [
    "## Drop the demand ads\n",
    "init_entries = german.shape[0]\n",
    "##\n",
    "german = german[german['offerType'] != \"Gesuch\"]\n",
    "##\n",
    "current_entries = german.shape[0]\n",
    "print('We dropped ',  init_entries - current_entries, ' entries due to being the incorrect type of ad')\n",
    "\n",
    "##heavy correlation with previous drops"
   ]
  },
  {
   "cell_type": "code",
   "execution_count": 33,
   "metadata": {},
   "outputs": [
    {
     "name": "stdout",
     "output_type": "stream",
     "text": [
      "We dropped  2  entries to avoid contamination of our dataset by honest \n",
      " cars sales professionals in germany - They are outliers\n"
     ]
    }
   ],
   "source": [
    "## Drop the commercial ads\n",
    "init_entries = german.shape[0]\n",
    "##\n",
    "german = german[german['seller'] != \"gewerblich\"]\n",
    "##\n",
    "current_entries = german.shape[0]\n",
    "print('We dropped ',  init_entries - current_entries, ' entries to avoid contamination of our dataset by honest \\n cars sales professionals in germany - They are outliers')"
   ]
  },
  {
   "cell_type": "code",
   "execution_count": 34,
   "metadata": {},
   "outputs": [
    {
     "name": "stdout",
     "output_type": "stream",
     "text": [
      "We dropped  28009  entries of heavily repaired cars\n"
     ]
    }
   ],
   "source": [
    "## drop heavily repaired cars\n",
    "init_entries = german.shape[0]\n",
    "##\n",
    "german = german[german['notRepairedDamage'] == 'nein']\n",
    "##\n",
    "current_entries = german.shape[0]\n",
    "\n",
    "print('We dropped ',  init_entries - current_entries, ' entries of heavily repaired cars')"
   ]
  },
  {
   "cell_type": "code",
   "execution_count": 35,
   "metadata": {},
   "outputs": [
    {
     "name": "stdout",
     "output_type": "stream",
     "text": [
      "We dropped  16  of stupidly expensive vehicles on the max value of the variable\n",
      "We dropped  2202  with price == 0\n"
     ]
    },
    {
     "data": {
      "text/plain": [
       "count    230739.000000\n",
       "mean       7321.311087\n",
       "std       10581.914410\n",
       "min           1.000000\n",
       "25%        1900.000000\n",
       "50%        4400.000000\n",
       "75%        9490.000000\n",
       "max      849000.000000\n",
       "Name: price, dtype: float64"
      ]
     },
     "execution_count": 35,
     "metadata": {},
     "output_type": "execute_result"
    }
   ],
   "source": [
    "#price drops\n",
    "init_entries = german.shape[0]\n",
    "##\n",
    "german = german[german['price'] < 850000]\n",
    "##\n",
    "init_entries = german.shape[0]\n",
    "\n",
    "print('We dropped ',  current_entries - init_entries, ' of stupidly expensive vehicles on the max value of the variable')\n",
    "## I decided to erase the entries for all cars over 911911€. It seems many users inputed the max price value allowed, so it's contaminated data.\n",
    "\n",
    "init_entries = german.shape[0]\n",
    "##\n",
    "german = german[german['price'] != 0]\n",
    "##\n",
    "init_entries = german.shape[0]\n",
    "\n",
    "print('We dropped ', current_entries - init_entries, ' with price == 0')\n",
    "\n",
    "german['price'].describe()\n",
    "# german['price'].max()\n",
    "# german['price'].value_counts()\n",
    "# The values = 0 are contaminated data and we're getting rid of it"
   ]
  },
  {
   "cell_type": "code",
   "execution_count": 36,
   "metadata": {},
   "outputs": [
    {
     "data": {
      "text/html": [
       "<div>\n",
       "<style scoped>\n",
       "    .dataframe tbody tr th:only-of-type {\n",
       "        vertical-align: middle;\n",
       "    }\n",
       "\n",
       "    .dataframe tbody tr th {\n",
       "        vertical-align: top;\n",
       "    }\n",
       "\n",
       "    .dataframe thead th {\n",
       "        text-align: right;\n",
       "    }\n",
       "</style>\n",
       "<table border=\"1\" class=\"dataframe\">\n",
       "  <thead>\n",
       "    <tr style=\"text-align: right;\">\n",
       "      <th></th>\n",
       "      <th>dateCrawled</th>\n",
       "      <th>name</th>\n",
       "      <th>seller</th>\n",
       "      <th>offerType</th>\n",
       "      <th>price</th>\n",
       "      <th>abtest</th>\n",
       "      <th>vehicleType</th>\n",
       "      <th>yearOfRegistration</th>\n",
       "      <th>gearbox</th>\n",
       "      <th>powerPS</th>\n",
       "      <th>...</th>\n",
       "      <th>monthOfRegistration</th>\n",
       "      <th>fuelType</th>\n",
       "      <th>brand</th>\n",
       "      <th>notRepairedDamage</th>\n",
       "      <th>dateCreated</th>\n",
       "      <th>nrOfPictures</th>\n",
       "      <th>postalCode</th>\n",
       "      <th>lastSeen</th>\n",
       "      <th>date_crawled_dt</th>\n",
       "      <th>horsepower</th>\n",
       "    </tr>\n",
       "  </thead>\n",
       "  <tbody>\n",
       "    <tr>\n",
       "      <th>3</th>\n",
       "      <td>2016-03-17 16:54:04</td>\n",
       "      <td>GOLF_4_1_4__3TÜRER</td>\n",
       "      <td>privat</td>\n",
       "      <td>Angebot</td>\n",
       "      <td>1500</td>\n",
       "      <td>test</td>\n",
       "      <td>kleinwagen</td>\n",
       "      <td>2001</td>\n",
       "      <td>manuell</td>\n",
       "      <td>75</td>\n",
       "      <td>...</td>\n",
       "      <td>6</td>\n",
       "      <td>benzin</td>\n",
       "      <td>volkswagen</td>\n",
       "      <td>nein</td>\n",
       "      <td>2016-03-17 00:00:00</td>\n",
       "      <td>0</td>\n",
       "      <td>91074</td>\n",
       "      <td>2016-03-17 17:40:17</td>\n",
       "      <td>2016-03-17 16:54:04</td>\n",
       "      <td>73.950</td>\n",
       "    </tr>\n",
       "    <tr>\n",
       "      <th>4</th>\n",
       "      <td>2016-03-31 17:25:20</td>\n",
       "      <td>Skoda_Fabia_1.4_TDI_PD_Classic</td>\n",
       "      <td>privat</td>\n",
       "      <td>Angebot</td>\n",
       "      <td>3600</td>\n",
       "      <td>test</td>\n",
       "      <td>kleinwagen</td>\n",
       "      <td>2008</td>\n",
       "      <td>manuell</td>\n",
       "      <td>69</td>\n",
       "      <td>...</td>\n",
       "      <td>7</td>\n",
       "      <td>diesel</td>\n",
       "      <td>skoda</td>\n",
       "      <td>nein</td>\n",
       "      <td>2016-03-31 00:00:00</td>\n",
       "      <td>0</td>\n",
       "      <td>60437</td>\n",
       "      <td>2016-04-06 10:17:21</td>\n",
       "      <td>2016-03-31 17:25:20</td>\n",
       "      <td>68.034</td>\n",
       "    </tr>\n",
       "    <tr>\n",
       "      <th>6</th>\n",
       "      <td>2016-04-01 20:48:51</td>\n",
       "      <td>Peugeot_206_CC_110_Platinum</td>\n",
       "      <td>privat</td>\n",
       "      <td>Angebot</td>\n",
       "      <td>2200</td>\n",
       "      <td>test</td>\n",
       "      <td>cabrio</td>\n",
       "      <td>2004</td>\n",
       "      <td>manuell</td>\n",
       "      <td>109</td>\n",
       "      <td>...</td>\n",
       "      <td>8</td>\n",
       "      <td>benzin</td>\n",
       "      <td>peugeot</td>\n",
       "      <td>nein</td>\n",
       "      <td>2016-04-01 00:00:00</td>\n",
       "      <td>0</td>\n",
       "      <td>67112</td>\n",
       "      <td>2016-04-05 18:18:39</td>\n",
       "      <td>2016-04-01 20:48:51</td>\n",
       "      <td>107.474</td>\n",
       "    </tr>\n",
       "    <tr>\n",
       "      <th>10</th>\n",
       "      <td>2016-03-26 19:54:18</td>\n",
       "      <td>Mazda_3_1.6_Sport</td>\n",
       "      <td>privat</td>\n",
       "      <td>Angebot</td>\n",
       "      <td>2000</td>\n",
       "      <td>control</td>\n",
       "      <td>limousine</td>\n",
       "      <td>2004</td>\n",
       "      <td>manuell</td>\n",
       "      <td>105</td>\n",
       "      <td>...</td>\n",
       "      <td>12</td>\n",
       "      <td>benzin</td>\n",
       "      <td>mazda</td>\n",
       "      <td>nein</td>\n",
       "      <td>2016-03-26 00:00:00</td>\n",
       "      <td>0</td>\n",
       "      <td>96224</td>\n",
       "      <td>2016-04-06 10:45:34</td>\n",
       "      <td>2016-03-26 19:54:18</td>\n",
       "      <td>103.530</td>\n",
       "    </tr>\n",
       "    <tr>\n",
       "      <th>14</th>\n",
       "      <td>2016-03-21 12:57:01</td>\n",
       "      <td>Nissan_Navara_2.5DPF_SE4x4_Klima_Sitzheizg_Blu...</td>\n",
       "      <td>privat</td>\n",
       "      <td>Angebot</td>\n",
       "      <td>17999</td>\n",
       "      <td>control</td>\n",
       "      <td>suv</td>\n",
       "      <td>2011</td>\n",
       "      <td>manuell</td>\n",
       "      <td>190</td>\n",
       "      <td>...</td>\n",
       "      <td>3</td>\n",
       "      <td>diesel</td>\n",
       "      <td>nissan</td>\n",
       "      <td>nein</td>\n",
       "      <td>2016-03-21 00:00:00</td>\n",
       "      <td>0</td>\n",
       "      <td>4177</td>\n",
       "      <td>2016-04-06 07:45:42</td>\n",
       "      <td>2016-03-21 12:57:01</td>\n",
       "      <td>187.340</td>\n",
       "    </tr>\n",
       "    <tr>\n",
       "      <th>...</th>\n",
       "      <td>...</td>\n",
       "      <td>...</td>\n",
       "      <td>...</td>\n",
       "      <td>...</td>\n",
       "      <td>...</td>\n",
       "      <td>...</td>\n",
       "      <td>...</td>\n",
       "      <td>...</td>\n",
       "      <td>...</td>\n",
       "      <td>...</td>\n",
       "      <td>...</td>\n",
       "      <td>...</td>\n",
       "      <td>...</td>\n",
       "      <td>...</td>\n",
       "      <td>...</td>\n",
       "      <td>...</td>\n",
       "      <td>...</td>\n",
       "      <td>...</td>\n",
       "      <td>...</td>\n",
       "      <td>...</td>\n",
       "      <td>...</td>\n",
       "    </tr>\n",
       "    <tr>\n",
       "      <th>371516</th>\n",
       "      <td>2016-04-04 09:57:12</td>\n",
       "      <td>Volkswagen_Lupo_1.0</td>\n",
       "      <td>privat</td>\n",
       "      <td>Angebot</td>\n",
       "      <td>1490</td>\n",
       "      <td>control</td>\n",
       "      <td>kleinwagen</td>\n",
       "      <td>1998</td>\n",
       "      <td>manuell</td>\n",
       "      <td>50</td>\n",
       "      <td>...</td>\n",
       "      <td>9</td>\n",
       "      <td>benzin</td>\n",
       "      <td>volkswagen</td>\n",
       "      <td>nein</td>\n",
       "      <td>2016-04-04 00:00:00</td>\n",
       "      <td>0</td>\n",
       "      <td>48653</td>\n",
       "      <td>2016-04-06 11:17:13</td>\n",
       "      <td>2016-04-04 09:57:12</td>\n",
       "      <td>49.300</td>\n",
       "    </tr>\n",
       "    <tr>\n",
       "      <th>371517</th>\n",
       "      <td>2016-03-28 13:48:07</td>\n",
       "      <td>Volkswagen_Golf_2.0_TDI_DPF_Team</td>\n",
       "      <td>privat</td>\n",
       "      <td>Angebot</td>\n",
       "      <td>7900</td>\n",
       "      <td>test</td>\n",
       "      <td>limousine</td>\n",
       "      <td>2010</td>\n",
       "      <td>manuell</td>\n",
       "      <td>140</td>\n",
       "      <td>...</td>\n",
       "      <td>7</td>\n",
       "      <td>diesel</td>\n",
       "      <td>volkswagen</td>\n",
       "      <td>nein</td>\n",
       "      <td>2016-03-28 00:00:00</td>\n",
       "      <td>0</td>\n",
       "      <td>75223</td>\n",
       "      <td>2016-04-02 18:16:20</td>\n",
       "      <td>2016-03-28 13:48:07</td>\n",
       "      <td>138.040</td>\n",
       "    </tr>\n",
       "    <tr>\n",
       "      <th>371524</th>\n",
       "      <td>2016-03-05 19:56:21</td>\n",
       "      <td>Smart_smart_leistungssteigerung_100ps</td>\n",
       "      <td>privat</td>\n",
       "      <td>Angebot</td>\n",
       "      <td>1199</td>\n",
       "      <td>test</td>\n",
       "      <td>cabrio</td>\n",
       "      <td>2000</td>\n",
       "      <td>automatik</td>\n",
       "      <td>101</td>\n",
       "      <td>...</td>\n",
       "      <td>3</td>\n",
       "      <td>benzin</td>\n",
       "      <td>smart</td>\n",
       "      <td>nein</td>\n",
       "      <td>2016-03-05 00:00:00</td>\n",
       "      <td>0</td>\n",
       "      <td>26135</td>\n",
       "      <td>2016-03-11 18:17:12</td>\n",
       "      <td>2016-03-05 19:56:21</td>\n",
       "      <td>99.586</td>\n",
       "    </tr>\n",
       "    <tr>\n",
       "      <th>371525</th>\n",
       "      <td>2016-03-19 18:57:12</td>\n",
       "      <td>Volkswagen_Multivan_T4_TDI_7DC_UY2</td>\n",
       "      <td>privat</td>\n",
       "      <td>Angebot</td>\n",
       "      <td>9200</td>\n",
       "      <td>test</td>\n",
       "      <td>bus</td>\n",
       "      <td>1996</td>\n",
       "      <td>manuell</td>\n",
       "      <td>102</td>\n",
       "      <td>...</td>\n",
       "      <td>3</td>\n",
       "      <td>diesel</td>\n",
       "      <td>volkswagen</td>\n",
       "      <td>nein</td>\n",
       "      <td>2016-03-19 00:00:00</td>\n",
       "      <td>0</td>\n",
       "      <td>87439</td>\n",
       "      <td>2016-04-07 07:15:26</td>\n",
       "      <td>2016-03-19 18:57:12</td>\n",
       "      <td>100.572</td>\n",
       "    </tr>\n",
       "    <tr>\n",
       "      <th>371527</th>\n",
       "      <td>2016-03-07 19:39:19</td>\n",
       "      <td>BMW_M135i_vollausgestattet_NP_52.720____Euro</td>\n",
       "      <td>privat</td>\n",
       "      <td>Angebot</td>\n",
       "      <td>28990</td>\n",
       "      <td>control</td>\n",
       "      <td>limousine</td>\n",
       "      <td>2013</td>\n",
       "      <td>manuell</td>\n",
       "      <td>320</td>\n",
       "      <td>...</td>\n",
       "      <td>8</td>\n",
       "      <td>benzin</td>\n",
       "      <td>bmw</td>\n",
       "      <td>nein</td>\n",
       "      <td>2016-03-07 00:00:00</td>\n",
       "      <td>0</td>\n",
       "      <td>73326</td>\n",
       "      <td>2016-03-22 03:17:10</td>\n",
       "      <td>2016-03-07 19:39:19</td>\n",
       "      <td>315.520</td>\n",
       "    </tr>\n",
       "  </tbody>\n",
       "</table>\n",
       "<p>223447 rows × 22 columns</p>\n",
       "</div>"
      ],
      "text/plain": [
       "                dateCrawled  \\\n",
       "3       2016-03-17 16:54:04   \n",
       "4       2016-03-31 17:25:20   \n",
       "6       2016-04-01 20:48:51   \n",
       "10      2016-03-26 19:54:18   \n",
       "14      2016-03-21 12:57:01   \n",
       "...                     ...   \n",
       "371516  2016-04-04 09:57:12   \n",
       "371517  2016-03-28 13:48:07   \n",
       "371524  2016-03-05 19:56:21   \n",
       "371525  2016-03-19 18:57:12   \n",
       "371527  2016-03-07 19:39:19   \n",
       "\n",
       "                                                     name  seller offerType  \\\n",
       "3                                      GOLF_4_1_4__3TÜRER  privat   Angebot   \n",
       "4                          Skoda_Fabia_1.4_TDI_PD_Classic  privat   Angebot   \n",
       "6                             Peugeot_206_CC_110_Platinum  privat   Angebot   \n",
       "10                                      Mazda_3_1.6_Sport  privat   Angebot   \n",
       "14      Nissan_Navara_2.5DPF_SE4x4_Klima_Sitzheizg_Blu...  privat   Angebot   \n",
       "...                                                   ...     ...       ...   \n",
       "371516                                Volkswagen_Lupo_1.0  privat   Angebot   \n",
       "371517                   Volkswagen_Golf_2.0_TDI_DPF_Team  privat   Angebot   \n",
       "371524              Smart_smart_leistungssteigerung_100ps  privat   Angebot   \n",
       "371525                 Volkswagen_Multivan_T4_TDI_7DC_UY2  privat   Angebot   \n",
       "371527       BMW_M135i_vollausgestattet_NP_52.720____Euro  privat   Angebot   \n",
       "\n",
       "        price   abtest vehicleType  yearOfRegistration    gearbox  powerPS  \\\n",
       "3        1500     test  kleinwagen                2001    manuell       75   \n",
       "4        3600     test  kleinwagen                2008    manuell       69   \n",
       "6        2200     test      cabrio                2004    manuell      109   \n",
       "10       2000  control   limousine                2004    manuell      105   \n",
       "14      17999  control         suv                2011    manuell      190   \n",
       "...       ...      ...         ...                 ...        ...      ...   \n",
       "371516   1490  control  kleinwagen                1998    manuell       50   \n",
       "371517   7900     test   limousine                2010    manuell      140   \n",
       "371524   1199     test      cabrio                2000  automatik      101   \n",
       "371525   9200     test         bus                1996    manuell      102   \n",
       "371527  28990  control   limousine                2013    manuell      320   \n",
       "\n",
       "        ... monthOfRegistration  fuelType       brand notRepairedDamage  \\\n",
       "3       ...                   6    benzin  volkswagen              nein   \n",
       "4       ...                   7    diesel       skoda              nein   \n",
       "6       ...                   8    benzin     peugeot              nein   \n",
       "10      ...                  12    benzin       mazda              nein   \n",
       "14      ...                   3    diesel      nissan              nein   \n",
       "...     ...                 ...       ...         ...               ...   \n",
       "371516  ...                   9    benzin  volkswagen              nein   \n",
       "371517  ...                   7    diesel  volkswagen              nein   \n",
       "371524  ...                   3    benzin       smart              nein   \n",
       "371525  ...                   3    diesel  volkswagen              nein   \n",
       "371527  ...                   8    benzin         bmw              nein   \n",
       "\n",
       "                dateCreated nrOfPictures postalCode             lastSeen  \\\n",
       "3       2016-03-17 00:00:00            0      91074  2016-03-17 17:40:17   \n",
       "4       2016-03-31 00:00:00            0      60437  2016-04-06 10:17:21   \n",
       "6       2016-04-01 00:00:00            0      67112  2016-04-05 18:18:39   \n",
       "10      2016-03-26 00:00:00            0      96224  2016-04-06 10:45:34   \n",
       "14      2016-03-21 00:00:00            0       4177  2016-04-06 07:45:42   \n",
       "...                     ...          ...        ...                  ...   \n",
       "371516  2016-04-04 00:00:00            0      48653  2016-04-06 11:17:13   \n",
       "371517  2016-03-28 00:00:00            0      75223  2016-04-02 18:16:20   \n",
       "371524  2016-03-05 00:00:00            0      26135  2016-03-11 18:17:12   \n",
       "371525  2016-03-19 00:00:00            0      87439  2016-04-07 07:15:26   \n",
       "371527  2016-03-07 00:00:00            0      73326  2016-03-22 03:17:10   \n",
       "\n",
       "           date_crawled_dt horsepower  \n",
       "3      2016-03-17 16:54:04     73.950  \n",
       "4      2016-03-31 17:25:20     68.034  \n",
       "6      2016-04-01 20:48:51    107.474  \n",
       "10     2016-03-26 19:54:18    103.530  \n",
       "14     2016-03-21 12:57:01    187.340  \n",
       "...                    ...        ...  \n",
       "371516 2016-04-04 09:57:12     49.300  \n",
       "371517 2016-03-28 13:48:07    138.040  \n",
       "371524 2016-03-05 19:56:21     99.586  \n",
       "371525 2016-03-19 18:57:12    100.572  \n",
       "371527 2016-03-07 19:39:19    315.520  \n",
       "\n",
       "[223447 rows x 22 columns]"
      ]
     },
     "execution_count": 36,
     "metadata": {},
     "output_type": "execute_result"
    }
   ],
   "source": [
    "german = german[german['horsepower'] < 1000] ## more than 1000 hp is a rocket\n",
    "german = german[german['horsepower'] > 10] ## less than 10 hp is a bycicle\n",
    "german['horsepower'].describe()\n",
    "#german = german[german['horsepower'] < 15]\n",
    "german"
   ]
  },
  {
   "cell_type": "code",
   "execution_count": 40,
   "metadata": {},
   "outputs": [
    {
     "data": {
      "text/plain": [
       "count    223137.000000\n",
       "mean       2003.762290\n",
       "std           6.417377\n",
       "min        1923.000000\n",
       "25%        2000.000000\n",
       "50%        2004.000000\n",
       "75%        2008.000000\n",
       "max        2015.000000\n",
       "Name: yearOfRegistration, dtype: float64"
      ]
     },
     "execution_count": 40,
     "metadata": {},
     "output_type": "execute_result"
    }
   ],
   "source": [
    "german = german[german['yearOfRegistration'] <= 2016]\n",
    "\n",
    "german['yearOfRegistration'].describe()"
   ]
  },
  {
   "cell_type": "code",
   "execution_count": 43,
   "metadata": {},
   "outputs": [],
   "source": [
    "german = german[columns_to_keep]"
   ]
  },
  {
   "cell_type": "code",
   "execution_count": 44,
   "metadata": {},
   "outputs": [
    {
     "data": {
      "text/html": [
       "<div>\n",
       "<style scoped>\n",
       "    .dataframe tbody tr th:only-of-type {\n",
       "        vertical-align: middle;\n",
       "    }\n",
       "\n",
       "    .dataframe tbody tr th {\n",
       "        vertical-align: top;\n",
       "    }\n",
       "\n",
       "    .dataframe thead th {\n",
       "        text-align: right;\n",
       "    }\n",
       "</style>\n",
       "<table border=\"1\" class=\"dataframe\">\n",
       "  <thead>\n",
       "    <tr style=\"text-align: right;\">\n",
       "      <th></th>\n",
       "      <th>name</th>\n",
       "      <th>price</th>\n",
       "      <th>vehicleType</th>\n",
       "      <th>yearOfRegistration</th>\n",
       "      <th>gearbox</th>\n",
       "      <th>horsepower</th>\n",
       "      <th>model</th>\n",
       "      <th>kilometer</th>\n",
       "      <th>monthOfRegistration</th>\n",
       "      <th>fuelType</th>\n",
       "      <th>brand</th>\n",
       "      <th>notRepairedDamage</th>\n",
       "    </tr>\n",
       "  </thead>\n",
       "  <tbody>\n",
       "    <tr>\n",
       "      <th>3</th>\n",
       "      <td>GOLF_4_1_4__3TÜRER</td>\n",
       "      <td>1500</td>\n",
       "      <td>kleinwagen</td>\n",
       "      <td>2001</td>\n",
       "      <td>manuell</td>\n",
       "      <td>73.950</td>\n",
       "      <td>golf</td>\n",
       "      <td>150000</td>\n",
       "      <td>6</td>\n",
       "      <td>benzin</td>\n",
       "      <td>volkswagen</td>\n",
       "      <td>nein</td>\n",
       "    </tr>\n",
       "    <tr>\n",
       "      <th>4</th>\n",
       "      <td>Skoda_Fabia_1.4_TDI_PD_Classic</td>\n",
       "      <td>3600</td>\n",
       "      <td>kleinwagen</td>\n",
       "      <td>2008</td>\n",
       "      <td>manuell</td>\n",
       "      <td>68.034</td>\n",
       "      <td>fabia</td>\n",
       "      <td>90000</td>\n",
       "      <td>7</td>\n",
       "      <td>diesel</td>\n",
       "      <td>skoda</td>\n",
       "      <td>nein</td>\n",
       "    </tr>\n",
       "    <tr>\n",
       "      <th>6</th>\n",
       "      <td>Peugeot_206_CC_110_Platinum</td>\n",
       "      <td>2200</td>\n",
       "      <td>cabrio</td>\n",
       "      <td>2004</td>\n",
       "      <td>manuell</td>\n",
       "      <td>107.474</td>\n",
       "      <td>2_reihe</td>\n",
       "      <td>150000</td>\n",
       "      <td>8</td>\n",
       "      <td>benzin</td>\n",
       "      <td>peugeot</td>\n",
       "      <td>nein</td>\n",
       "    </tr>\n",
       "    <tr>\n",
       "      <th>10</th>\n",
       "      <td>Mazda_3_1.6_Sport</td>\n",
       "      <td>2000</td>\n",
       "      <td>limousine</td>\n",
       "      <td>2004</td>\n",
       "      <td>manuell</td>\n",
       "      <td>103.530</td>\n",
       "      <td>3_reihe</td>\n",
       "      <td>150000</td>\n",
       "      <td>12</td>\n",
       "      <td>benzin</td>\n",
       "      <td>mazda</td>\n",
       "      <td>nein</td>\n",
       "    </tr>\n",
       "    <tr>\n",
       "      <th>14</th>\n",
       "      <td>Nissan_Navara_2.5DPF_SE4x4_Klima_Sitzheizg_Blu...</td>\n",
       "      <td>17999</td>\n",
       "      <td>suv</td>\n",
       "      <td>2011</td>\n",
       "      <td>manuell</td>\n",
       "      <td>187.340</td>\n",
       "      <td>navara</td>\n",
       "      <td>70000</td>\n",
       "      <td>3</td>\n",
       "      <td>diesel</td>\n",
       "      <td>nissan</td>\n",
       "      <td>nein</td>\n",
       "    </tr>\n",
       "    <tr>\n",
       "      <th>...</th>\n",
       "      <td>...</td>\n",
       "      <td>...</td>\n",
       "      <td>...</td>\n",
       "      <td>...</td>\n",
       "      <td>...</td>\n",
       "      <td>...</td>\n",
       "      <td>...</td>\n",
       "      <td>...</td>\n",
       "      <td>...</td>\n",
       "      <td>...</td>\n",
       "      <td>...</td>\n",
       "      <td>...</td>\n",
       "    </tr>\n",
       "    <tr>\n",
       "      <th>371516</th>\n",
       "      <td>Volkswagen_Lupo_1.0</td>\n",
       "      <td>1490</td>\n",
       "      <td>kleinwagen</td>\n",
       "      <td>1998</td>\n",
       "      <td>manuell</td>\n",
       "      <td>49.300</td>\n",
       "      <td>lupo</td>\n",
       "      <td>150000</td>\n",
       "      <td>9</td>\n",
       "      <td>benzin</td>\n",
       "      <td>volkswagen</td>\n",
       "      <td>nein</td>\n",
       "    </tr>\n",
       "    <tr>\n",
       "      <th>371517</th>\n",
       "      <td>Volkswagen_Golf_2.0_TDI_DPF_Team</td>\n",
       "      <td>7900</td>\n",
       "      <td>limousine</td>\n",
       "      <td>2010</td>\n",
       "      <td>manuell</td>\n",
       "      <td>138.040</td>\n",
       "      <td>golf</td>\n",
       "      <td>150000</td>\n",
       "      <td>7</td>\n",
       "      <td>diesel</td>\n",
       "      <td>volkswagen</td>\n",
       "      <td>nein</td>\n",
       "    </tr>\n",
       "    <tr>\n",
       "      <th>371524</th>\n",
       "      <td>Smart_smart_leistungssteigerung_100ps</td>\n",
       "      <td>1199</td>\n",
       "      <td>cabrio</td>\n",
       "      <td>2000</td>\n",
       "      <td>automatik</td>\n",
       "      <td>99.586</td>\n",
       "      <td>fortwo</td>\n",
       "      <td>125000</td>\n",
       "      <td>3</td>\n",
       "      <td>benzin</td>\n",
       "      <td>smart</td>\n",
       "      <td>nein</td>\n",
       "    </tr>\n",
       "    <tr>\n",
       "      <th>371525</th>\n",
       "      <td>Volkswagen_Multivan_T4_TDI_7DC_UY2</td>\n",
       "      <td>9200</td>\n",
       "      <td>bus</td>\n",
       "      <td>1996</td>\n",
       "      <td>manuell</td>\n",
       "      <td>100.572</td>\n",
       "      <td>transporter</td>\n",
       "      <td>150000</td>\n",
       "      <td>3</td>\n",
       "      <td>diesel</td>\n",
       "      <td>volkswagen</td>\n",
       "      <td>nein</td>\n",
       "    </tr>\n",
       "    <tr>\n",
       "      <th>371527</th>\n",
       "      <td>BMW_M135i_vollausgestattet_NP_52.720____Euro</td>\n",
       "      <td>28990</td>\n",
       "      <td>limousine</td>\n",
       "      <td>2013</td>\n",
       "      <td>manuell</td>\n",
       "      <td>315.520</td>\n",
       "      <td>m_reihe</td>\n",
       "      <td>50000</td>\n",
       "      <td>8</td>\n",
       "      <td>benzin</td>\n",
       "      <td>bmw</td>\n",
       "      <td>nein</td>\n",
       "    </tr>\n",
       "  </tbody>\n",
       "</table>\n",
       "<p>223137 rows × 12 columns</p>\n",
       "</div>"
      ],
      "text/plain": [
       "                                                     name  price vehicleType  \\\n",
       "3                                      GOLF_4_1_4__3TÜRER   1500  kleinwagen   \n",
       "4                          Skoda_Fabia_1.4_TDI_PD_Classic   3600  kleinwagen   \n",
       "6                             Peugeot_206_CC_110_Platinum   2200      cabrio   \n",
       "10                                      Mazda_3_1.6_Sport   2000   limousine   \n",
       "14      Nissan_Navara_2.5DPF_SE4x4_Klima_Sitzheizg_Blu...  17999         suv   \n",
       "...                                                   ...    ...         ...   \n",
       "371516                                Volkswagen_Lupo_1.0   1490  kleinwagen   \n",
       "371517                   Volkswagen_Golf_2.0_TDI_DPF_Team   7900   limousine   \n",
       "371524              Smart_smart_leistungssteigerung_100ps   1199      cabrio   \n",
       "371525                 Volkswagen_Multivan_T4_TDI_7DC_UY2   9200         bus   \n",
       "371527       BMW_M135i_vollausgestattet_NP_52.720____Euro  28990   limousine   \n",
       "\n",
       "        yearOfRegistration    gearbox  horsepower        model  kilometer  \\\n",
       "3                     2001    manuell      73.950         golf     150000   \n",
       "4                     2008    manuell      68.034        fabia      90000   \n",
       "6                     2004    manuell     107.474      2_reihe     150000   \n",
       "10                    2004    manuell     103.530      3_reihe     150000   \n",
       "14                    2011    manuell     187.340       navara      70000   \n",
       "...                    ...        ...         ...          ...        ...   \n",
       "371516                1998    manuell      49.300         lupo     150000   \n",
       "371517                2010    manuell     138.040         golf     150000   \n",
       "371524                2000  automatik      99.586       fortwo     125000   \n",
       "371525                1996    manuell     100.572  transporter     150000   \n",
       "371527                2013    manuell     315.520      m_reihe      50000   \n",
       "\n",
       "        monthOfRegistration fuelType       brand notRepairedDamage  \n",
       "3                         6   benzin  volkswagen              nein  \n",
       "4                         7   diesel       skoda              nein  \n",
       "6                         8   benzin     peugeot              nein  \n",
       "10                       12   benzin       mazda              nein  \n",
       "14                        3   diesel      nissan              nein  \n",
       "...                     ...      ...         ...               ...  \n",
       "371516                    9   benzin  volkswagen              nein  \n",
       "371517                    7   diesel  volkswagen              nein  \n",
       "371524                    3   benzin       smart              nein  \n",
       "371525                    3   diesel  volkswagen              nein  \n",
       "371527                    8   benzin         bmw              nein  \n",
       "\n",
       "[223137 rows x 12 columns]"
      ]
     },
     "execution_count": 44,
     "metadata": {},
     "output_type": "execute_result"
    }
   ],
   "source": [
    "german"
   ]
  },
  {
   "cell_type": "code",
   "execution_count": 45,
   "metadata": {},
   "outputs": [],
   "source": [
    "german.to_csv(path + \"german.csv\")"
   ]
  }
 ],
 "metadata": {
  "kernelspec": {
   "display_name": "Python 3",
   "language": "python",
   "name": "python3"
  },
  "language_info": {
   "codemirror_mode": {
    "name": "ipython",
    "version": 3
   },
   "file_extension": ".py",
   "mimetype": "text/x-python",
   "name": "python",
   "nbconvert_exporter": "python",
   "pygments_lexer": "ipython3",
   "version": "3.8.1"
  }
 },
 "nbformat": 4,
 "nbformat_minor": 4
}
