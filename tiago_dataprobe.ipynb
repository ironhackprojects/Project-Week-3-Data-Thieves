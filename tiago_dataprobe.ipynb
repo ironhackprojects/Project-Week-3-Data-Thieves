{
 "cells": [
  {
   "cell_type": "code",
   "execution_count": 1,
   "metadata": {},
   "outputs": [],
   "source": [
    "import pandas as pd"
   ]
  },
  {
   "cell_type": "code",
   "execution_count": 3,
   "metadata": {},
   "outputs": [
    {
     "data": {
      "text/plain": [
       "(509577, 25)"
      ]
     },
     "execution_count": 3,
     "metadata": {},
     "output_type": "execute_result"
    }
   ],
   "source": [
    "df = pd.read_csv('vehicles.csv')\n",
    "df.shape"
   ]
  },
  {
   "cell_type": "code",
   "execution_count": 5,
   "metadata": {},
   "outputs": [
    {
     "data": {
      "text/plain": [
       "Index(['id', 'url', 'region', 'region_url', 'price', 'year', 'manufacturer',\n",
       "       'model', 'condition', 'cylinders', 'fuel', 'odometer', 'title_status',\n",
       "       'transmission', 'vin', 'drive', 'size', 'type', 'paint_color',\n",
       "       'image_url', 'description', 'county', 'state', 'lat', 'long'],\n",
       "      dtype='object')"
      ]
     },
     "execution_count": 5,
     "metadata": {},
     "output_type": "execute_result"
    }
   ],
   "source": [
    "df.dtypes\n",
    "df.columns"
   ]
  },
  {
   "cell_type": "code",
   "execution_count": 6,
   "metadata": {},
   "outputs": [
    {
     "data": {
      "text/plain": [
       "id                int64\n",
       "url              object\n",
       "region           object\n",
       "region_url       object\n",
       "price             int64\n",
       "year            float64\n",
       "manufacturer     object\n",
       "model            object\n",
       "condition        object\n",
       "cylinders        object\n",
       "fuel             object\n",
       "odometer        float64\n",
       "title_status     object\n",
       "transmission     object\n",
       "vin              object\n",
       "drive            object\n",
       "size             object\n",
       "type             object\n",
       "paint_color      object\n",
       "image_url        object\n",
       "description      object\n",
       "county          float64\n",
       "state            object\n",
       "lat             float64\n",
       "long            float64\n",
       "dtype: object"
      ]
     },
     "execution_count": 6,
     "metadata": {},
     "output_type": "execute_result"
    }
   ],
   "source": [
    "df.dtypes"
   ]
  },
  {
   "cell_type": "code",
   "execution_count": 15,
   "metadata": {},
   "outputs": [
    {
     "data": {
      "text/plain": [
       "id                   0\n",
       "url                  0\n",
       "region               0\n",
       "region_url           0\n",
       "price                0\n",
       "year              1527\n",
       "manufacturer     22764\n",
       "model             7989\n",
       "condition       231934\n",
       "cylinders       199683\n",
       "fuel              3985\n",
       "odometer         92324\n",
       "title_status      3062\n",
       "transmission      3719\n",
       "vin             207425\n",
       "drive           144143\n",
       "size            342003\n",
       "type            141531\n",
       "paint_color     164706\n",
       "image_url           14\n",
       "description         16\n",
       "county          509577\n",
       "state                0\n",
       "lat              10292\n",
       "long             10292\n",
       "dtype: int64"
      ]
     },
     "execution_count": 15,
     "metadata": {},
     "output_type": "execute_result"
    }
   ],
   "source": [
    "df.isna().sum()"
   ]
  },
  {
   "cell_type": "code",
   "execution_count": 18,
   "metadata": {},
   "outputs": [
    {
     "data": {
      "text/plain": [
       "excellent    140663\n",
       "good          97261\n",
       "like new      28166\n",
       "fair           9461\n",
       "new            1406\n",
       "salvage         686\n",
       "Name: condition, dtype: int64"
      ]
     },
     "execution_count": 18,
     "metadata": {},
     "output_type": "execute_result"
    }
   ],
   "source": [
    "df['condition'].value_counts()"
   ]
  },
  {
   "cell_type": "code",
   "execution_count": 19,
   "metadata": {},
   "outputs": [],
   "source": [
    "ger = pd.read_csv('cnt_km_year_powerPS_minPrice_maxPrice_avgPrice_sdPrice.csv')"
   ]
  },
  {
   "cell_type": "code",
   "execution_count": 20,
   "metadata": {},
   "outputs": [
    {
     "data": {
      "text/html": [
       "<div>\n",
       "<style scoped>\n",
       "    .dataframe tbody tr th:only-of-type {\n",
       "        vertical-align: middle;\n",
       "    }\n",
       "\n",
       "    .dataframe tbody tr th {\n",
       "        vertical-align: top;\n",
       "    }\n",
       "\n",
       "    .dataframe thead th {\n",
       "        text-align: right;\n",
       "    }\n",
       "</style>\n",
       "<table border=\"1\" class=\"dataframe\">\n",
       "  <thead>\n",
       "    <tr style=\"text-align: right;\">\n",
       "      <th></th>\n",
       "      <th>count</th>\n",
       "      <th>km</th>\n",
       "      <th>year</th>\n",
       "      <th>powerPS</th>\n",
       "      <th>minPrice</th>\n",
       "      <th>maxPrice</th>\n",
       "      <th>avgPrice</th>\n",
       "      <th>sdPrice</th>\n",
       "    </tr>\n",
       "  </thead>\n",
       "  <tbody>\n",
       "    <tr>\n",
       "      <th>0</th>\n",
       "      <td>19</td>\n",
       "      <td>125000</td>\n",
       "      <td>1991</td>\n",
       "      <td>40</td>\n",
       "      <td>300</td>\n",
       "      <td>1499</td>\n",
       "      <td>648.3158</td>\n",
       "      <td>352.035293</td>\n",
       "    </tr>\n",
       "    <tr>\n",
       "      <th>1</th>\n",
       "      <td>69</td>\n",
       "      <td>150000</td>\n",
       "      <td>1991</td>\n",
       "      <td>40</td>\n",
       "      <td>110</td>\n",
       "      <td>1600</td>\n",
       "      <td>516.4348</td>\n",
       "      <td>346.767661</td>\n",
       "    </tr>\n",
       "    <tr>\n",
       "      <th>2</th>\n",
       "      <td>11</td>\n",
       "      <td>90000</td>\n",
       "      <td>1991</td>\n",
       "      <td>60</td>\n",
       "      <td>330</td>\n",
       "      <td>10000</td>\n",
       "      <td>2342.4545</td>\n",
       "      <td>3017.432333</td>\n",
       "    </tr>\n",
       "    <tr>\n",
       "      <th>3</th>\n",
       "      <td>26</td>\n",
       "      <td>100000</td>\n",
       "      <td>1991</td>\n",
       "      <td>60</td>\n",
       "      <td>200</td>\n",
       "      <td>8750</td>\n",
       "      <td>1392.3846</td>\n",
       "      <td>1598.662833</td>\n",
       "    </tr>\n",
       "    <tr>\n",
       "      <th>4</th>\n",
       "      <td>42</td>\n",
       "      <td>125000</td>\n",
       "      <td>1991</td>\n",
       "      <td>60</td>\n",
       "      <td>150</td>\n",
       "      <td>4600</td>\n",
       "      <td>1140.6429</td>\n",
       "      <td>1010.314138</td>\n",
       "    </tr>\n",
       "    <tr>\n",
       "      <th>...</th>\n",
       "      <td>...</td>\n",
       "      <td>...</td>\n",
       "      <td>...</td>\n",
       "      <td>...</td>\n",
       "      <td>...</td>\n",
       "      <td>...</td>\n",
       "      <td>...</td>\n",
       "      <td>...</td>\n",
       "    </tr>\n",
       "    <tr>\n",
       "      <th>1765</th>\n",
       "      <td>24</td>\n",
       "      <td>20000</td>\n",
       "      <td>2015</td>\n",
       "      <td>260</td>\n",
       "      <td>25490</td>\n",
       "      <td>73000</td>\n",
       "      <td>49492.3750</td>\n",
       "      <td>17182.173184</td>\n",
       "    </tr>\n",
       "    <tr>\n",
       "      <th>1766</th>\n",
       "      <td>16</td>\n",
       "      <td>10000</td>\n",
       "      <td>2015</td>\n",
       "      <td>300</td>\n",
       "      <td>699</td>\n",
       "      <td>60000</td>\n",
       "      <td>38542.6875</td>\n",
       "      <td>12924.901241</td>\n",
       "    </tr>\n",
       "    <tr>\n",
       "      <th>1767</th>\n",
       "      <td>25</td>\n",
       "      <td>20000</td>\n",
       "      <td>2015</td>\n",
       "      <td>300</td>\n",
       "      <td>487</td>\n",
       "      <td>82700</td>\n",
       "      <td>39683.3200</td>\n",
       "      <td>13065.072294</td>\n",
       "    </tr>\n",
       "    <tr>\n",
       "      <th>1768</th>\n",
       "      <td>22</td>\n",
       "      <td>10000</td>\n",
       "      <td>2015</td>\n",
       "      <td>320</td>\n",
       "      <td>33000</td>\n",
       "      <td>68450</td>\n",
       "      <td>50372.6364</td>\n",
       "      <td>10736.265072</td>\n",
       "    </tr>\n",
       "    <tr>\n",
       "      <th>1769</th>\n",
       "      <td>16</td>\n",
       "      <td>20000</td>\n",
       "      <td>2015</td>\n",
       "      <td>320</td>\n",
       "      <td>33950</td>\n",
       "      <td>85800</td>\n",
       "      <td>58096.2500</td>\n",
       "      <td>14002.933565</td>\n",
       "    </tr>\n",
       "  </tbody>\n",
       "</table>\n",
       "<p>1770 rows × 8 columns</p>\n",
       "</div>"
      ],
      "text/plain": [
       "      count      km  year  powerPS  minPrice  maxPrice    avgPrice  \\\n",
       "0        19  125000  1991       40       300      1499    648.3158   \n",
       "1        69  150000  1991       40       110      1600    516.4348   \n",
       "2        11   90000  1991       60       330     10000   2342.4545   \n",
       "3        26  100000  1991       60       200      8750   1392.3846   \n",
       "4        42  125000  1991       60       150      4600   1140.6429   \n",
       "...     ...     ...   ...      ...       ...       ...         ...   \n",
       "1765     24   20000  2015      260     25490     73000  49492.3750   \n",
       "1766     16   10000  2015      300       699     60000  38542.6875   \n",
       "1767     25   20000  2015      300       487     82700  39683.3200   \n",
       "1768     22   10000  2015      320     33000     68450  50372.6364   \n",
       "1769     16   20000  2015      320     33950     85800  58096.2500   \n",
       "\n",
       "           sdPrice  \n",
       "0       352.035293  \n",
       "1       346.767661  \n",
       "2      3017.432333  \n",
       "3      1598.662833  \n",
       "4      1010.314138  \n",
       "...            ...  \n",
       "1765  17182.173184  \n",
       "1766  12924.901241  \n",
       "1767  13065.072294  \n",
       "1768  10736.265072  \n",
       "1769  14002.933565  \n",
       "\n",
       "[1770 rows x 8 columns]"
      ]
     },
     "execution_count": 20,
     "metadata": {},
     "output_type": "execute_result"
    }
   ],
   "source": [
    "ger"
   ]
  },
  {
   "cell_type": "code",
   "execution_count": 29,
   "metadata": {},
   "outputs": [],
   "source": [
    "ger_real = pd.read_csv('autos.csv', sep = ',', encoding='latin1')"
   ]
  },
  {
   "cell_type": "code",
   "execution_count": 40,
   "metadata": {},
   "outputs": [
    {
     "data": {
      "text/plain": [
       "0             volkswagen\n",
       "1                   audi\n",
       "2                   jeep\n",
       "3             volkswagen\n",
       "4                  skoda\n",
       "               ...      \n",
       "371523    sonstige_autos\n",
       "371524             smart\n",
       "371525        volkswagen\n",
       "371526        volkswagen\n",
       "371527               bmw\n",
       "Name: brand, Length: 371528, dtype: object"
      ]
     },
     "execution_count": 40,
     "metadata": {},
     "output_type": "execute_result"
    }
   ],
   "source": [
    "ger_real['brand']\n"
   ]
  },
  {
   "cell_type": "code",
   "execution_count": null,
   "metadata": {},
   "outputs": [],
   "source": []
  }
 ],
 "metadata": {
  "kernelspec": {
   "display_name": "Python 3",
   "language": "python",
   "name": "python3"
  },
  "language_info": {
   "codemirror_mode": {
    "name": "ipython",
    "version": 3
   },
   "file_extension": ".py",
   "mimetype": "text/x-python",
   "name": "python",
   "nbconvert_exporter": "python",
   "pygments_lexer": "ipython3",
   "version": "3.7.4"
  }
 },
 "nbformat": 4,
 "nbformat_minor": 4
}
