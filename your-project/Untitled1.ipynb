{
 "cells": [
  {
   "cell_type": "code",
   "execution_count": 1,
   "metadata": {},
   "outputs": [],
   "source": [
    "import pandas as pd"
   ]
  },
  {
   "cell_type": "code",
   "execution_count": 2,
   "metadata": {},
   "outputs": [],
   "source": [
    "german = pd.read_csv('../datasets/german_transl.csv', index_col = 0)"
   ]
  },
  {
   "cell_type": "code",
   "execution_count": 3,
   "metadata": {},
   "outputs": [],
   "source": [
    "pt = pd.read_csv('Full_SV.csv', index_col = 0)"
   ]
  },
  {
   "cell_type": "code",
   "execution_count": 4,
   "metadata": {},
   "outputs": [
    {
     "data": {
      "text/plain": [
       "price            int64\n",
       "ID               int64\n",
       "vehicle_type    object\n",
       "year             int64\n",
       "transmission    object\n",
       "horsepower       int64\n",
       "km               int64\n",
       "fuel_type       object\n",
       "brand           object\n",
       "dtype: object"
      ]
     },
     "execution_count": 4,
     "metadata": {},
     "output_type": "execute_result"
    }
   ],
   "source": [
    "pt.dtypes"
   ]
  },
  {
   "cell_type": "code",
   "execution_count": 5,
   "metadata": {},
   "outputs": [
    {
     "data": {
      "text/html": [
       "<div>\n",
       "<style scoped>\n",
       "    .dataframe tbody tr th:only-of-type {\n",
       "        vertical-align: middle;\n",
       "    }\n",
       "\n",
       "    .dataframe tbody tr th {\n",
       "        vertical-align: top;\n",
       "    }\n",
       "\n",
       "    .dataframe thead th {\n",
       "        text-align: right;\n",
       "    }\n",
       "</style>\n",
       "<table border=\"1\" class=\"dataframe\">\n",
       "  <thead>\n",
       "    <tr style=\"text-align: right;\">\n",
       "      <th></th>\n",
       "      <th>horsepower</th>\n",
       "      <th>km</th>\n",
       "    </tr>\n",
       "    <tr>\n",
       "      <th>brand</th>\n",
       "      <th></th>\n",
       "      <th></th>\n",
       "    </tr>\n",
       "  </thead>\n",
       "  <tbody>\n",
       "    <tr>\n",
       "      <th>alfa_romeo</th>\n",
       "      <td>142.248207</td>\n",
       "      <td>125885.939742</td>\n",
       "    </tr>\n",
       "    <tr>\n",
       "      <th>audi</th>\n",
       "      <td>167.005675</td>\n",
       "      <td>125349.427918</td>\n",
       "    </tr>\n",
       "    <tr>\n",
       "      <th>bmw</th>\n",
       "      <td>174.861313</td>\n",
       "      <td>130611.090504</td>\n",
       "    </tr>\n",
       "    <tr>\n",
       "      <th>chevrolet</th>\n",
       "      <td>142.832309</td>\n",
       "      <td>96931.518876</td>\n",
       "    </tr>\n",
       "    <tr>\n",
       "      <th>chrysler</th>\n",
       "      <td>168.044025</td>\n",
       "      <td>133597.484277</td>\n",
       "    </tr>\n",
       "    <tr>\n",
       "      <th>citroen</th>\n",
       "      <td>96.860142</td>\n",
       "      <td>116716.731266</td>\n",
       "    </tr>\n",
       "    <tr>\n",
       "      <th>dacia</th>\n",
       "      <td>87.570978</td>\n",
       "      <td>84605.678233</td>\n",
       "    </tr>\n",
       "    <tr>\n",
       "      <th>daewoo</th>\n",
       "      <td>82.070248</td>\n",
       "      <td>121632.231405</td>\n",
       "    </tr>\n",
       "    <tr>\n",
       "      <th>daihatsu</th>\n",
       "      <td>68.444717</td>\n",
       "      <td>116179.361179</td>\n",
       "    </tr>\n",
       "    <tr>\n",
       "      <th>fiat</th>\n",
       "      <td>79.315677</td>\n",
       "      <td>110584.012418</td>\n",
       "    </tr>\n",
       "    <tr>\n",
       "      <th>ford</th>\n",
       "      <td>107.191044</td>\n",
       "      <td>120094.048287</td>\n",
       "    </tr>\n",
       "    <tr>\n",
       "      <th>honda</th>\n",
       "      <td>116.494197</td>\n",
       "      <td>122125.839951</td>\n",
       "    </tr>\n",
       "    <tr>\n",
       "      <th>hyundai</th>\n",
       "      <td>111.147919</td>\n",
       "      <td>98502.266172</td>\n",
       "    </tr>\n",
       "    <tr>\n",
       "      <th>jaguar</th>\n",
       "      <td>241.838480</td>\n",
       "      <td>120843.230404</td>\n",
       "    </tr>\n",
       "    <tr>\n",
       "      <th>jeep</th>\n",
       "      <td>183.083488</td>\n",
       "      <td>117031.539889</td>\n",
       "    </tr>\n",
       "    <tr>\n",
       "      <th>kia</th>\n",
       "      <td>118.934704</td>\n",
       "      <td>102756.952842</td>\n",
       "    </tr>\n",
       "    <tr>\n",
       "      <th>lada</th>\n",
       "      <td>78.844828</td>\n",
       "      <td>66637.931034</td>\n",
       "    </tr>\n",
       "    <tr>\n",
       "      <th>lancia</th>\n",
       "      <td>100.904000</td>\n",
       "      <td>119920.000000</td>\n",
       "    </tr>\n",
       "    <tr>\n",
       "      <th>land_rover</th>\n",
       "      <td>166.925400</td>\n",
       "      <td>115106.571936</td>\n",
       "    </tr>\n",
       "    <tr>\n",
       "      <th>mazda</th>\n",
       "      <td>120.427219</td>\n",
       "      <td>121213.017751</td>\n",
       "    </tr>\n",
       "    <tr>\n",
       "      <th>mercedes_benz</th>\n",
       "      <td>167.697212</td>\n",
       "      <td>128456.193865</td>\n",
       "    </tr>\n",
       "    <tr>\n",
       "      <th>mini</th>\n",
       "      <td>126.049871</td>\n",
       "      <td>90788.695973</td>\n",
       "    </tr>\n",
       "    <tr>\n",
       "      <th>mitsubishi</th>\n",
       "      <td>118.453939</td>\n",
       "      <td>122978.787879</td>\n",
       "    </tr>\n",
       "    <tr>\n",
       "      <th>nissan</th>\n",
       "      <td>109.642326</td>\n",
       "      <td>114242.731575</td>\n",
       "    </tr>\n",
       "    <tr>\n",
       "      <th>opel</th>\n",
       "      <td>101.075261</td>\n",
       "      <td>125122.884303</td>\n",
       "    </tr>\n",
       "    <tr>\n",
       "      <th>peugeot</th>\n",
       "      <td>100.783574</td>\n",
       "      <td>119745.247148</td>\n",
       "    </tr>\n",
       "    <tr>\n",
       "      <th>porsche</th>\n",
       "      <td>297.672159</td>\n",
       "      <td>98514.204545</td>\n",
       "    </tr>\n",
       "    <tr>\n",
       "      <th>renault</th>\n",
       "      <td>91.209164</td>\n",
       "      <td>123294.339623</td>\n",
       "    </tr>\n",
       "    <tr>\n",
       "      <th>rover</th>\n",
       "      <td>111.648649</td>\n",
       "      <td>132864.864865</td>\n",
       "    </tr>\n",
       "    <tr>\n",
       "      <th>saab</th>\n",
       "      <td>162.418338</td>\n",
       "      <td>141547.277937</td>\n",
       "    </tr>\n",
       "    <tr>\n",
       "      <th>seat</th>\n",
       "      <td>100.781027</td>\n",
       "      <td>115192.263412</td>\n",
       "    </tr>\n",
       "    <tr>\n",
       "      <th>skoda</th>\n",
       "      <td>107.179431</td>\n",
       "      <td>109957.044674</td>\n",
       "    </tr>\n",
       "    <tr>\n",
       "      <th>smart</th>\n",
       "      <td>62.972398</td>\n",
       "      <td>93651.479880</td>\n",
       "    </tr>\n",
       "    <tr>\n",
       "      <th>subaru</th>\n",
       "      <td>143.860360</td>\n",
       "      <td>121283.783784</td>\n",
       "    </tr>\n",
       "    <tr>\n",
       "      <th>suzuki</th>\n",
       "      <td>90.132394</td>\n",
       "      <td>103411.971831</td>\n",
       "    </tr>\n",
       "    <tr>\n",
       "      <th>toyota</th>\n",
       "      <td>109.300672</td>\n",
       "      <td>114884.004884</td>\n",
       "    </tr>\n",
       "    <tr>\n",
       "      <th>trabant</th>\n",
       "      <td>26.039683</td>\n",
       "      <td>49126.984127</td>\n",
       "    </tr>\n",
       "    <tr>\n",
       "      <th>volkswagen</th>\n",
       "      <td>108.666312</td>\n",
       "      <td>124506.084847</td>\n",
       "    </tr>\n",
       "    <tr>\n",
       "      <th>volvo</th>\n",
       "      <td>150.025346</td>\n",
       "      <td>136347.926267</td>\n",
       "    </tr>\n",
       "  </tbody>\n",
       "</table>\n",
       "</div>"
      ],
      "text/plain": [
       "               horsepower             km\n",
       "brand                                   \n",
       "alfa_romeo     142.248207  125885.939742\n",
       "audi           167.005675  125349.427918\n",
       "bmw            174.861313  130611.090504\n",
       "chevrolet      142.832309   96931.518876\n",
       "chrysler       168.044025  133597.484277\n",
       "citroen         96.860142  116716.731266\n",
       "dacia           87.570978   84605.678233\n",
       "daewoo          82.070248  121632.231405\n",
       "daihatsu        68.444717  116179.361179\n",
       "fiat            79.315677  110584.012418\n",
       "ford           107.191044  120094.048287\n",
       "honda          116.494197  122125.839951\n",
       "hyundai        111.147919   98502.266172\n",
       "jaguar         241.838480  120843.230404\n",
       "jeep           183.083488  117031.539889\n",
       "kia            118.934704  102756.952842\n",
       "lada            78.844828   66637.931034\n",
       "lancia         100.904000  119920.000000\n",
       "land_rover     166.925400  115106.571936\n",
       "mazda          120.427219  121213.017751\n",
       "mercedes_benz  167.697212  128456.193865\n",
       "mini           126.049871   90788.695973\n",
       "mitsubishi     118.453939  122978.787879\n",
       "nissan         109.642326  114242.731575\n",
       "opel           101.075261  125122.884303\n",
       "peugeot        100.783574  119745.247148\n",
       "porsche        297.672159   98514.204545\n",
       "renault         91.209164  123294.339623\n",
       "rover          111.648649  132864.864865\n",
       "saab           162.418338  141547.277937\n",
       "seat           100.781027  115192.263412\n",
       "skoda          107.179431  109957.044674\n",
       "smart           62.972398   93651.479880\n",
       "subaru         143.860360  121283.783784\n",
       "suzuki          90.132394  103411.971831\n",
       "toyota         109.300672  114884.004884\n",
       "trabant         26.039683   49126.984127\n",
       "volkswagen     108.666312  124506.084847\n",
       "volvo          150.025346  136347.926267"
      ]
     },
     "execution_count": 5,
     "metadata": {},
     "output_type": "execute_result"
    }
   ],
   "source": [
    "german.groupby(['brand']).agg({'horsepower': 'mean', 'km': 'mean'})\n",
    "\n",
    "#DataFrame.groupby(self, by=None, axis=0, level=None, as_index: bool = True, sort: bool = True, group_keys: bool = True, squeeze: bool = False, observed: bool = False) "
   ]
  },
  {
   "cell_type": "code",
   "execution_count": 6,
   "metadata": {},
   "outputs": [
    {
     "data": {
      "text/html": [
       "<div>\n",
       "<style scoped>\n",
       "    .dataframe tbody tr th:only-of-type {\n",
       "        vertical-align: middle;\n",
       "    }\n",
       "\n",
       "    .dataframe tbody tr th {\n",
       "        vertical-align: top;\n",
       "    }\n",
       "\n",
       "    .dataframe thead th {\n",
       "        text-align: right;\n",
       "    }\n",
       "</style>\n",
       "<table border=\"1\" class=\"dataframe\">\n",
       "  <thead>\n",
       "    <tr style=\"text-align: right;\">\n",
       "      <th></th>\n",
       "      <th>horsepower</th>\n",
       "      <th>km</th>\n",
       "    </tr>\n",
       "    <tr>\n",
       "      <th>brand</th>\n",
       "      <th></th>\n",
       "      <th></th>\n",
       "    </tr>\n",
       "  </thead>\n",
       "  <tbody>\n",
       "    <tr>\n",
       "      <th>Abarth</th>\n",
       "      <td>159.583333</td>\n",
       "      <td>35297.833333</td>\n",
       "    </tr>\n",
       "    <tr>\n",
       "      <th>Alfa Romeo</th>\n",
       "      <td>134.857143</td>\n",
       "      <td>110087.028571</td>\n",
       "    </tr>\n",
       "    <tr>\n",
       "      <th>Aston Martin</th>\n",
       "      <td>401.166667</td>\n",
       "      <td>45700.666667</td>\n",
       "    </tr>\n",
       "    <tr>\n",
       "      <th>Audi</th>\n",
       "      <td>157.829755</td>\n",
       "      <td>139519.162577</td>\n",
       "    </tr>\n",
       "    <tr>\n",
       "      <th>Austin</th>\n",
       "      <td>68.000000</td>\n",
       "      <td>102000.000000</td>\n",
       "    </tr>\n",
       "    <tr>\n",
       "      <th>...</th>\n",
       "      <td>...</td>\n",
       "      <td>...</td>\n",
       "    </tr>\n",
       "    <tr>\n",
       "      <th>Tesla</th>\n",
       "      <td>399.454545</td>\n",
       "      <td>115618.727273</td>\n",
       "    </tr>\n",
       "    <tr>\n",
       "      <th>Toyota</th>\n",
       "      <td>107.730375</td>\n",
       "      <td>106800.341297</td>\n",
       "    </tr>\n",
       "    <tr>\n",
       "      <th>UMM</th>\n",
       "      <td>96.666667</td>\n",
       "      <td>209500.000000</td>\n",
       "    </tr>\n",
       "    <tr>\n",
       "      <th>VW</th>\n",
       "      <td>115.151035</td>\n",
       "      <td>124967.344702</td>\n",
       "    </tr>\n",
       "    <tr>\n",
       "      <th>Volvo</th>\n",
       "      <td>158.155440</td>\n",
       "      <td>117737.676166</td>\n",
       "    </tr>\n",
       "  </tbody>\n",
       "</table>\n",
       "<p>61 rows × 2 columns</p>\n",
       "</div>"
      ],
      "text/plain": [
       "              horsepower             km\n",
       "brand                                  \n",
       "Abarth        159.583333   35297.833333\n",
       "Alfa Romeo    134.857143  110087.028571\n",
       "Aston Martin  401.166667   45700.666667\n",
       "Audi          157.829755  139519.162577\n",
       "Austin         68.000000  102000.000000\n",
       "...                  ...            ...\n",
       "Tesla         399.454545  115618.727273\n",
       "Toyota        107.730375  106800.341297\n",
       "UMM            96.666667  209500.000000\n",
       "VW            115.151035  124967.344702\n",
       "Volvo         158.155440  117737.676166\n",
       "\n",
       "[61 rows x 2 columns]"
      ]
     },
     "execution_count": 6,
     "metadata": {},
     "output_type": "execute_result"
    }
   ],
   "source": [
    "pt.groupby(['brand']).agg({'horsepower': 'mean', 'km': 'mean'})"
   ]
  },
  {
   "cell_type": "code",
   "execution_count": 7,
   "metadata": {},
   "outputs": [],
   "source": [
    "dict_transm = {'automatic' : 1, 'manual': 0}"
   ]
  },
  {
   "cell_type": "code",
   "execution_count": 8,
   "metadata": {},
   "outputs": [
    {
     "data": {
      "text/plain": [
       "0.0    9008\n",
       "1.0    3566\n",
       "Name: transmission, dtype: int64"
      ]
     },
     "execution_count": 8,
     "metadata": {},
     "output_type": "execute_result"
    }
   ],
   "source": [
    "pt['transmission'] = pt['transmission'].map(dict_transm)\n",
    "\n",
    "pt['transmission'].value_counts()"
   ]
  },
  {
   "cell_type": "code",
   "execution_count": 9,
   "metadata": {},
   "outputs": [
    {
     "data": {
      "text/plain": [
       "0    169670\n",
       "1     53726\n",
       "Name: transmission, dtype: int64"
      ]
     },
     "execution_count": 9,
     "metadata": {},
     "output_type": "execute_result"
    }
   ],
   "source": [
    "german['transmission'] = german['transmission'].map(dict_transm)\n",
    "\n",
    "german['transmission'].value_counts()"
   ]
  },
  {
   "cell_type": "code",
   "execution_count": 10,
   "metadata": {},
   "outputs": [],
   "source": [
    "transmissionger = german.groupby(['year']).agg({'transmission': 'mean'})"
   ]
  },
  {
   "cell_type": "code",
   "execution_count": 11,
   "metadata": {},
   "outputs": [],
   "source": [
    "transmissionpt = pt.groupby(['year']).agg({'transmission': 'mean'})"
   ]
  },
  {
   "cell_type": "code",
   "execution_count": 12,
   "metadata": {},
   "outputs": [
    {
     "data": {
      "text/plain": [
       "<pandas.core.groupby.generic.DataFrameGroupBy object at 0x7f303e505310>"
      ]
     },
     "execution_count": 12,
     "metadata": {},
     "output_type": "execute_result"
    }
   ],
   "source": [
    "german.groupby(['brand','fuel_type'])"
   ]
  },
  {
   "cell_type": "code",
   "execution_count": 13,
   "metadata": {},
   "outputs": [
    {
     "data": {
      "text/plain": [
       "<pandas.core.groupby.generic.DataFrameGroupBy object at 0x7f303e505c70>"
      ]
     },
     "execution_count": 13,
     "metadata": {},
     "output_type": "execute_result"
    }
   ],
   "source": [
    "pt.groupby(['brand','fuel_type'])"
   ]
  },
  {
   "cell_type": "code",
   "execution_count": 14,
   "metadata": {},
   "outputs": [],
   "source": [
    "gas = pt.groupby(['year']).agg({'fuel_type': lambda x : sum(x == 'gas')})\n",
    "diesel = pt.groupby(['year']).agg({'fuel_type': lambda x : sum(x == 'diesel')})\n",
    "electric = pt.groupby(['year']).agg({'fuel_type': lambda x : sum(x == 'electric')})\n",
    "GPL = pt.groupby(['year']).agg({'fuel_type': lambda x : sum(x == 'GPL')})\n",
    "hybrid = pt.groupby(['year']).agg({'fuel_type': lambda x : sum(x == 'hybrid')})\n",
    "CNG = pt.groupby(['year']).agg({'fuel_type': lambda x : sum(x == 'CNG')})\n",
    "\n",
    "#fuel_type_df = pd.concat([gas, diesel] axis = 0)\n",
    "fuel_type_df_pt = pd.concat([gas, diesel, electric, GPL, hybrid, CNG], keys=['gas', 'diesel', 'electric', 'GPL', 'hybrid', 'CNG'], axis = 1)"
   ]
  },
  {
   "cell_type": "code",
   "execution_count": 15,
   "metadata": {},
   "outputs": [],
   "source": [
    "gas = german.groupby(['year']).agg({'fuel_type': lambda x : sum(x == 'gas')})\n",
    "diesel = german.groupby(['year']).agg({'fuel_type': lambda x : sum(x == 'diesel')})\n",
    "electric = german.groupby(['year']).agg({'fuel_type': lambda x : sum(x == 'electric')})\n",
    "GPL = german.groupby(['year']).agg({'fuel_type': lambda x : sum(x == 'GPL')})\n",
    "hybrid = german.groupby(['year']).agg({'fuel_type': lambda x : sum(x == 'hybrid')})\n",
    "CNG = german.groupby(['year']).agg({'fuel_type': lambda x : sum(x == 'CNG')})\n",
    "\n",
    "#fuel_type_df = pd.concat([gas, diesel] axis = 0)\n",
    "fuel_type_df_ger = pd.concat([gas, diesel, electric, GPL, hybrid, CNG], keys=['gas', 'diesel', 'electric', 'GPL', 'hybrid', 'CNG'], axis = 1)"
   ]
  },
  {
   "cell_type": "code",
   "execution_count": 16,
   "metadata": {},
   "outputs": [],
   "source": [
    "#df.count()\n",
    "fuel_type_df_ger['year_total'] = fuel_type_df_ger.sum(axis=1)\n",
    "fuel_type_df_pt['year_total'] = fuel_type_df_pt.sum(axis=1)"
   ]
  },
  {
   "cell_type": "code",
   "execution_count": 17,
   "metadata": {},
   "outputs": [],
   "source": [
    "fuel_type_ratios_pt = fuel_type_df_pt.loc[:,\"gas\":\"CNG\"].div(fuel_type_df_pt[\"year_total\"], axis=0)\n",
    "fuel_type_ratios_ger = fuel_type_df_ger.loc[:,\"gas\":\"CNG\"].div(fuel_type_df_ger[\"year_total\"], axis=0)\n",
    "\n",
    "#fuel_type_df['gas_ratio'] = fuel_type_df['gas'] / fuel_type_df['year_total']\n",
    "\n",
    "#fuel_type_df\n",
    "\n",
    "#for c in fuel_type_df:\n",
    "#3    c = c/fuel_type_df['year_total']"
   ]
  },
  {
   "cell_type": "code",
   "execution_count": 18,
   "metadata": {},
   "outputs": [],
   "source": [
    "fuel_type_ratios_pt.to_csv('fuel_type_ratios_pt.csv')\n",
    "fuel_type_ratios_ger.to_csv('fuel_type_ratios_ger.csv')"
   ]
  },
  {
   "cell_type": "code",
   "execution_count": 19,
   "metadata": {},
   "outputs": [],
   "source": [
    "fuel_type_ratios_ger[fuel_type_df_ger.index > 2000].to_csv('fuel_type_ratios_zoom2000_ger.csv')\n",
    "fuel_type_ratios_pt[fuel_type_df_pt.index > 2000].to_csv('fuel_type_ratios_zoom2000_pt.csv')"
   ]
  },
  {
   "cell_type": "code",
   "execution_count": 20,
   "metadata": {},
   "outputs": [],
   "source": [
    "fuel_type_ratios_ger.columns = fuel_type_ratios_ger.columns.get_level_values(0)\n",
    "fuel_type_ratios_pt.columns = fuel_type_ratios_pt.columns.get_level_values(0)"
   ]
  },
  {
   "cell_type": "code",
   "execution_count": 21,
   "metadata": {},
   "outputs": [],
   "source": [
    "import seaborn as sns"
   ]
  },
  {
   "cell_type": "code",
   "execution_count": 22,
   "metadata": {},
   "outputs": [],
   "source": [
    "sns.set(palette = 'Pastel1')"
   ]
  },
  {
   "cell_type": "code",
   "execution_count": 23,
   "metadata": {},
   "outputs": [
    {
     "data": {
      "image/png": "[encoded data removed]",
      "text/plain": [
       "<Figure size 432x288 with 1 Axes>"
      ]
     },
     "metadata": {},
     "output_type": "display_data"
    }
   ],
   "source": [
    "fuel_type_ratios_ger.plot.area().get_figure().savefig(\"stacked_histogram_fuel_type_ger.png\", dpi=500)\n",
    "#list_data = [fuel_type_ratios.loc[:\"diesel\", \"a\"], wide_df.loc[\"2003\":, \"b\"]]\n",
    "#ax = sns.lineplot(data=list_data)"
   ]
  },
  {
   "cell_type": "code",
   "execution_count": 24,
   "metadata": {},
   "outputs": [
    {
     "data": {
      "image/png": "[encoded data removed]",
      "text/plain": [
       "<Figure size 432x288 with 1 Axes>"
      ]
     },
     "metadata": {},
     "output_type": "display_data"
    }
   ],
   "source": [
    "fuel_type_ratios_pt.plot.area().get_figure().savefig(\"stacked_histogram_fuel_type_pt.png\", dpi=500)\n",
    "#list_data = [fuel_type_ratios.loc[:\"diesel\", \"a\"], wide_df.loc[\"2003\":, \"b\"]]\n",
    "#ax = sns.lineplot(data=list_data)"
   ]
  },
  {
   "cell_type": "code",
   "execution_count": 25,
   "metadata": {},
   "outputs": [
    {
     "data": {
      "image/png": "[encoded data removed]",
      "text/plain": [
       "<Figure size 432x288 with 1 Axes>"
      ]
     },
     "metadata": {},
     "output_type": "display_data"
    }
   ],
   "source": [
    "plots = fuel_type_ratios_ger[fuel_type_ratios_ger.index > 2000].plot.area().get_figure().savefig(\"stacked_histogram_zoom2000_fuel_type_ger.png\", dpi=500)"
   ]
  },
  {
   "cell_type": "code",
   "execution_count": 26,
   "metadata": {},
   "outputs": [
    {
     "data": {
      "image/png": "[encoded data removed]",
      "text/plain": [
       "<Figure size 432x288 with 1 Axes>"
      ]
     },
     "metadata": {},
     "output_type": "display_data"
    }
   ],
   "source": [
    "plots = fuel_type_ratios_pt[fuel_type_ratios_pt.index > 1999].plot.area().get_figure().savefig(\"stacked_histogram_zoom2000_fuel_type_pt.png\", dpi=500)"
   ]
  },
  {
   "cell_type": "code",
   "execution_count": 57,
   "metadata": {},
   "outputs": [
    {
     "data": {
      "image/png": "[encoded data removed]",
      "text/plain": [
       "<Figure size 864x432 with 1 Axes>"
      ]
     },
     "metadata": {},
     "output_type": "display_data"
    }
   ],
   "source": [
    "#sns.lineplot(data=german['transmission'])\n",
    "#x = sns.lineplot(german.in)\n",
    "\n",
    "#ax = sns.lineplot(x=\"year\" y=1, data=german['transmission'])\n",
    "#german['transmission'].value_counts()\n",
    "\n",
    "#ax\n",
    "transmissionger  = transmissionger[transmissionger.index > 2004]\n",
    "transmissionpt  = transmissionpt.loc[(transmissionpt.index > 2004) & (transmissionpt.index < 2019)]\n",
    "\n",
    "import matplotlib.pyplot as plot\n",
    "\n",
    "fig_dims = (12, 6)\n",
    "fig, ax = plot.subplots(figsize = fig_dims)\n",
    "x = sns.lineplot(transmissionpt.index, transmissionpt['transmission'], label = 'Portugal')\n",
    "y = sns.lineplot(transmissionger.index, transmissionger['transmission'], label = 'Germany')\n",
    "plot.setp(x.lines,linewidth=3)\n",
    "plot.setp(y.lines,linewidth=3)\n",
    "plot.setp(ax.get_legend().get_texts(), fontsize='25')\n",
    "plot.setp(ax.get_legend().get_title(), fontsize='30')\n",
    "leg = plot.legend()\n",
    "leg.get_frame().set_linewidth(0.0)\n",
    "plot.title('Percentage of Automatic Vehicles').get_figure().savefig('transmission_ratio_compar.png')"
   ]
  },
  {
   "cell_type": "code",
   "execution_count": 29,
   "metadata": {},
   "outputs": [
    {
     "data": {
      "text/plain": [
       "volkswagen       47002\n",
       "bmw              26960\n",
       "mercedes_benz    23604\n",
       "audi             21850\n",
       "opel             21565\n",
       "ford             14248\n",
       "renault           9275\n",
       "peugeot           6575\n",
       "fiat              5154\n",
       "seat              4343\n",
       "skoda             4074\n",
       "mazda             3380\n",
       "toyota            3276\n",
       "citroen           3096\n",
       "smart             3007\n",
       "nissan            2958\n",
       "mini              2707\n",
       "hyundai           2427\n",
       "volvo             2170\n",
       "porsche           1760\n",
       "kia               1654\n",
       "mitsubishi        1650\n",
       "honda             1637\n",
       "suzuki            1420\n",
       "alfa_romeo        1394\n",
       "chevrolet         1139\n",
       "chrysler           795\n",
       "dacia              634\n",
       "land_rover         563\n",
       "jeep               539\n",
       "subaru             444\n",
       "jaguar             421\n",
       "daihatsu           407\n",
       "saab               349\n",
       "lancia             250\n",
       "daewoo             242\n",
       "rover              185\n",
       "trabant            126\n",
       "lada               116\n",
       "Name: brand, dtype: int64"
      ]
     },
     "execution_count": 29,
     "metadata": {},
     "output_type": "execute_result"
    }
   ],
   "source": [
    "german['brand'].value_counts()"
   ]
  },
  {
   "cell_type": "code",
   "execution_count": 31,
   "metadata": {},
   "outputs": [
    {
     "data": {
      "text/html": [
       "<div>\n",
       "<style scoped>\n",
       "    .dataframe tbody tr th:only-of-type {\n",
       "        vertical-align: middle;\n",
       "    }\n",
       "\n",
       "    .dataframe tbody tr th {\n",
       "        vertical-align: top;\n",
       "    }\n",
       "\n",
       "    .dataframe thead th {\n",
       "        text-align: right;\n",
       "    }\n",
       "</style>\n",
       "<table border=\"1\" class=\"dataframe\">\n",
       "  <thead>\n",
       "    <tr style=\"text-align: right;\">\n",
       "      <th></th>\n",
       "      <th>price</th>\n",
       "      <th>ID</th>\n",
       "      <th>vehicle_type</th>\n",
       "      <th>year</th>\n",
       "      <th>transmission</th>\n",
       "      <th>horsepower</th>\n",
       "      <th>km</th>\n",
       "      <th>fuel_type</th>\n",
       "      <th>brand</th>\n",
       "      <th>brand_ot</th>\n",
       "    </tr>\n",
       "  </thead>\n",
       "  <tbody>\n",
       "    <tr>\n",
       "      <th>0</th>\n",
       "      <td>19900</td>\n",
       "      <td>8075510964</td>\n",
       "      <td>large_family_car</td>\n",
       "      <td>2018</td>\n",
       "      <td>1.0</td>\n",
       "      <td>190</td>\n",
       "      <td>78453</td>\n",
       "      <td>diesel</td>\n",
       "      <td>Mercedes-Benz</td>\n",
       "      <td>other</td>\n",
       "    </tr>\n",
       "    <tr>\n",
       "      <th>1</th>\n",
       "      <td>9150</td>\n",
       "      <td>8073871562</td>\n",
       "      <td>suv</td>\n",
       "      <td>2015</td>\n",
       "      <td>1.0</td>\n",
       "      <td>218</td>\n",
       "      <td>103322</td>\n",
       "      <td>diesel</td>\n",
       "      <td>BMW</td>\n",
       "      <td>BMW</td>\n",
       "    </tr>\n",
       "    <tr>\n",
       "      <th>3</th>\n",
       "      <td>16499</td>\n",
       "      <td>8074632564</td>\n",
       "      <td>sports_tourism_van</td>\n",
       "      <td>2018</td>\n",
       "      <td>0.0</td>\n",
       "      <td>95</td>\n",
       "      <td>39854</td>\n",
       "      <td>diesel</td>\n",
       "      <td>Fiat</td>\n",
       "      <td>other</td>\n",
       "    </tr>\n",
       "    <tr>\n",
       "      <th>4</th>\n",
       "      <td>22990</td>\n",
       "      <td>8073285820</td>\n",
       "      <td>small_car</td>\n",
       "      <td>2012</td>\n",
       "      <td>0.0</td>\n",
       "      <td>105</td>\n",
       "      <td>53500</td>\n",
       "      <td>diesel</td>\n",
       "      <td>Fiat</td>\n",
       "      <td>other</td>\n",
       "    </tr>\n",
       "    <tr>\n",
       "      <th>5</th>\n",
       "      <td>15500</td>\n",
       "      <td>8074283033</td>\n",
       "      <td>coupé</td>\n",
       "      <td>2016</td>\n",
       "      <td>0.0</td>\n",
       "      <td>71</td>\n",
       "      <td>55677</td>\n",
       "      <td>gas</td>\n",
       "      <td>Smart</td>\n",
       "      <td>other</td>\n",
       "    </tr>\n",
       "  </tbody>\n",
       "</table>\n",
       "</div>"
      ],
      "text/plain": [
       "   price          ID        vehicle_type  year  transmission  horsepower  \\\n",
       "0  19900  8075510964    large_family_car  2018           1.0         190   \n",
       "1   9150  8073871562                 suv  2015           1.0         218   \n",
       "3  16499  8074632564  sports_tourism_van  2018           0.0          95   \n",
       "4  22990  8073285820           small_car  2012           0.0         105   \n",
       "5  15500  8074283033               coupé  2016           0.0          71   \n",
       "\n",
       "       km fuel_type          brand brand_ot  \n",
       "0   78453    diesel  Mercedes-Benz    other  \n",
       "1  103322    diesel            BMW      BMW  \n",
       "3   39854    diesel           Fiat    other  \n",
       "4   53500    diesel           Fiat    other  \n",
       "5   55677       gas          Smart    other  "
      ]
     },
     "execution_count": 31,
     "metadata": {},
     "output_type": "execute_result"
    }
   ],
   "source": [
    "five_brands = ['BMW', 'Mercedes', 'Renault', 'Peugeot', 'VW']\n",
    "pt['brand_ot'] = [x if x in five_brands else 'other' for x in pt['brand']]\n",
    "pt_filt = pt[pt['year']>2010]\n",
    "pt_filt.head()"
   ]
  },
  {
   "cell_type": "code",
   "execution_count": 33,
   "metadata": {},
   "outputs": [
    {
     "data": {
      "text/plain": [
       "(0, 40000)"
      ]
     },
     "execution_count": 33,
     "metadata": {},
     "output_type": "execute_result"
    },
    {
     "data": {
      "image/png": "[encoded data removed]",
      "text/plain": [
       "<Figure size 432x288 with 1 Axes>"
      ]
     },
     "metadata": {},
     "output_type": "display_data"
    }
   ],
   "source": [
    "ax = sns.boxplot(x= \"brand_ot\", y= \"price\" , data = pt_filt)\n",
    "ax.set_xticklabels(ax.get_xticklabels(),rotation=90)\n",
    "plot.ylim(0,40000)"
   ]
  },
  {
   "cell_type": "code",
   "execution_count": 35,
   "metadata": {},
   "outputs": [
    {
     "data": {
      "text/html": [
       "<div>\n",
       "<style scoped>\n",
       "    .dataframe tbody tr th:only-of-type {\n",
       "        vertical-align: middle;\n",
       "    }\n",
       "\n",
       "    .dataframe tbody tr th {\n",
       "        vertical-align: top;\n",
       "    }\n",
       "\n",
       "    .dataframe thead th {\n",
       "        text-align: right;\n",
       "    }\n",
       "</style>\n",
       "<table border=\"1\" class=\"dataframe\">\n",
       "  <thead>\n",
       "    <tr style=\"text-align: right;\">\n",
       "      <th></th>\n",
       "      <th>price</th>\n",
       "      <th>vehicle_type</th>\n",
       "      <th>year</th>\n",
       "      <th>transmission</th>\n",
       "      <th>horsepower</th>\n",
       "      <th>km</th>\n",
       "      <th>fuel_type</th>\n",
       "      <th>brand</th>\n",
       "      <th>brand_ot</th>\n",
       "    </tr>\n",
       "  </thead>\n",
       "  <tbody>\n",
       "    <tr>\n",
       "      <th>14</th>\n",
       "      <td>17999</td>\n",
       "      <td>suv</td>\n",
       "      <td>2011</td>\n",
       "      <td>0</td>\n",
       "      <td>187</td>\n",
       "      <td>70000</td>\n",
       "      <td>diesel</td>\n",
       "      <td>nissan</td>\n",
       "      <td>other</td>\n",
       "    </tr>\n",
       "    <tr>\n",
       "      <th>49</th>\n",
       "      <td>13500</td>\n",
       "      <td>van</td>\n",
       "      <td>2012</td>\n",
       "      <td>1</td>\n",
       "      <td>107</td>\n",
       "      <td>150000</td>\n",
       "      <td>diesel</td>\n",
       "      <td>mercedes_benz</td>\n",
       "      <td>mercedes_benz</td>\n",
       "    </tr>\n",
       "    <tr>\n",
       "      <th>56</th>\n",
       "      <td>39600</td>\n",
       "      <td>coupé</td>\n",
       "      <td>2014</td>\n",
       "      <td>1</td>\n",
       "      <td>301</td>\n",
       "      <td>30000</td>\n",
       "      <td>gas</td>\n",
       "      <td>bmw</td>\n",
       "      <td>bmw</td>\n",
       "    </tr>\n",
       "    <tr>\n",
       "      <th>76</th>\n",
       "      <td>7999</td>\n",
       "      <td>small_car</td>\n",
       "      <td>2013</td>\n",
       "      <td>0</td>\n",
       "      <td>78</td>\n",
       "      <td>40000</td>\n",
       "      <td>gas</td>\n",
       "      <td>nissan</td>\n",
       "      <td>other</td>\n",
       "    </tr>\n",
       "    <tr>\n",
       "      <th>95</th>\n",
       "      <td>14500</td>\n",
       "      <td>small_car</td>\n",
       "      <td>2013</td>\n",
       "      <td>0</td>\n",
       "      <td>84</td>\n",
       "      <td>60000</td>\n",
       "      <td>gas</td>\n",
       "      <td>audi</td>\n",
       "      <td>audi</td>\n",
       "    </tr>\n",
       "  </tbody>\n",
       "</table>\n",
       "</div>"
      ],
      "text/plain": [
       "    price vehicle_type  year  transmission  horsepower      km fuel_type  \\\n",
       "14  17999          suv  2011             0         187   70000    diesel   \n",
       "49  13500          van  2012             1         107  150000    diesel   \n",
       "56  39600        coupé  2014             1         301   30000       gas   \n",
       "76   7999    small_car  2013             0          78   40000       gas   \n",
       "95  14500    small_car  2013             0          84   60000       gas   \n",
       "\n",
       "            brand       brand_ot  \n",
       "14         nissan          other  \n",
       "49  mercedes_benz  mercedes_benz  \n",
       "56            bmw            bmw  \n",
       "76         nissan          other  \n",
       "95           audi           audi  "
      ]
     },
     "execution_count": 35,
     "metadata": {},
     "output_type": "execute_result"
    }
   ],
   "source": [
    "five_brands = ['volkswagen', 'bmw', 'mercedes_benz', 'audi', 'opel']\n",
    "\n",
    "german['brand_ot'] = [x if x in five_brands else 'other' for x in german['brand']]\n",
    "german_filt = german[german['year']>2010]\n",
    "german_filt.head()"
   ]
  },
  {
   "cell_type": "code",
   "execution_count": 36,
   "metadata": {},
   "outputs": [
    {
     "data": {
      "text/plain": [
       "(0, 40000)"
      ]
     },
     "execution_count": 36,
     "metadata": {},
     "output_type": "execute_result"
    },
    {
     "data": {
      "image/png": "[encoded data removed]",
      "text/plain": [
       "<Figure size 432x288 with 1 Axes>"
      ]
     },
     "metadata": {},
     "output_type": "display_data"
    }
   ],
   "source": [
    "ax = sns.boxplot(x= \"brand_ot\", y= \"price\" , data = german_filt)\n",
    "ax.set_xticklabels(ax.get_xticklabels(),rotation=90)\n",
    "plot.ylim(0,40000)"
   ]
  },
  {
   "cell_type": "code",
   "execution_count": 71,
   "metadata": {},
   "outputs": [
    {
     "data": {
      "text/plain": [
       "([<matplotlib.patches.Wedge at 0x7f30376404c0>,\n",
       "  <matplotlib.patches.Wedge at 0x7f30376409a0>,\n",
       "  <matplotlib.patches.Wedge at 0x7f3037636040>,\n",
       "  <matplotlib.patches.Wedge at 0x7f3037636400>,\n",
       "  <matplotlib.patches.Wedge at 0x7f30376532b0>,\n",
       "  <matplotlib.patches.Wedge at 0x7f3037653f10>],\n",
       " [Text(1.0105766045547309, 0.43443633172955404, 'Audi'),\n",
       "  Text(0.4769978497950939, 0.9911977861611966, 'BMW'),\n",
       "  Text(-0.13647775051567854, 1.0915007208491345, 'Mercedes'),\n",
       "  Text(-0.6129677802224648, 0.9133840924874619, 'Opel'),\n",
       "  Text(-1.0749679465118849, -0.5333328360152052, 'other'),\n",
       "  Text(0.8252527511091994, -0.7272949173386942, 'VW')],\n",
       " [Text(0.5512236024843986, 0.236965271852484, '13%'),\n",
       "  Text(0.26018064534277846, 0.5406533379061071, '10%'),\n",
       "  Text(-0.07444240937218828, 0.5953640295540733, '8%'),\n",
       "  Text(-0.3343460619395262, 0.49820950499316097, '6%'),\n",
       "  Text(-0.627064635465266, -0.31111082100886966, '39%'),\n",
       "  Text(0.4501378642413814, -0.3967063185483786, '23%')])"
      ]
     },
     "execution_count": 71,
     "metadata": {},
     "output_type": "execute_result"
    },
    {
     "data": {
      "image/png": "[encoded data removed]",
      "text/plain": [
       "<Figure size 432x288 with 1 Axes>"
      ]
     },
     "metadata": {},
     "output_type": "display_data"
    }
   ],
   "source": [
    "brandagger = german_filt.groupby(['brand_ot']).count()\n",
    "\n",
    "brandagger\n",
    "explode = (0, 0, 0, 0, 0.1, 0)\n",
    "labels = ('Audi', 'BMW', 'Mercedes', 'Opel', 'other', 'VW')\n",
    "plot.pie(brandagger['price'], explode=explode, shadow = True, labels = labels, autopct='%1.f%%')#, autopct='%1.1f%%', shadow=True, startangle=90)\n",
    "#plot.axis('equal')\n",
    "#plot.show()\n",
    "#brandagger"
   ]
  }
 ],
 "metadata": {
  "kernelspec": {
   "display_name": "Python 3",
   "language": "python",
   "name": "python3"
  },
  "language_info": {
   "codemirror_mode": {
    "name": "ipython",
    "version": 3
   },
   "file_extension": ".py",
   "mimetype": "text/x-python",
   "name": "python",
   "nbconvert_exporter": "python",
   "pygments_lexer": "ipython3",
   "version": "3.8.1"
  }
 },
 "nbformat": 4,
 "nbformat_minor": 4
}
